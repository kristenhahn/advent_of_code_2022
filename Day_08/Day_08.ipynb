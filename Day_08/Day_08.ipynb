{
 "cells": [
  {
   "cell_type": "code",
   "execution_count": 18,
   "metadata": {},
   "outputs": [],
   "source": [
    "# Advent of code 2022\n",
    "# Day 8\n",
    "# https://adventofcode.com/2022/day/8\n",
    "\n",
    "import pandas as pd\n",
    "\n",
    "# open the text file\n",
    "with open('trees.txt') as f:\n",
    "    data = f.read()\n",
    "\n",
    "# split text into rows\n",
    "rows = data.split('\\n')\n",
    "\n",
    "# remove blank rows\n",
    "rows = list(filter(None, rows))\n"
   ]
  },
  {
   "cell_type": "code",
   "execution_count": 78,
   "metadata": {},
   "outputs": [],
   "source": [
    "# Convert rows into lists of individual tree heights\n",
    "rows = [list(r) for r in rows]\n",
    "\n",
    "# convert row lists into a dataframe\n",
    "df = pd.DataFrame(rows)"
   ]
  },
  {
   "cell_type": "code",
   "execution_count": 77,
   "metadata": {},
   "outputs": [
    {
     "data": {
      "text/plain": [
       "1792"
      ]
     },
     "execution_count": 77,
     "metadata": {},
     "output_type": "execute_result"
    }
   ],
   "source": [
    "# count rows:\n",
    "num_rows = len(df)\n",
    "num_cols = len(df.columns)\n",
    "num_visible_trees = 0\n",
    "\n",
    "# loop through every tree in the dataframe\n",
    "for r in range(num_rows):\n",
    "    for c in range(num_cols):\n",
    "\n",
    "        visible_left = True\n",
    "        visible_right = True\n",
    "        visible_above = True\n",
    "        visible_below = True\n",
    "\n",
    "        # height of this tree\n",
    "        h = df.loc[r,c]\n",
    "\n",
    "        # all trees to the left of this one\n",
    "        left_of = df.loc[r,:c-1]\n",
    "        if any(left_of >= h):\n",
    "            visible_left = False\n",
    "\n",
    "        # all trees to the right of this one\n",
    "        right_of = df.loc[r, c+1:]\n",
    "        if any(right_of >= h):\n",
    "            visible_right = False\n",
    "\n",
    "        # all trees above this one\n",
    "        above = df.loc[:r-1,c]\n",
    "        if any(above >= h):\n",
    "            visible_above = False\n",
    "\n",
    "        # all trees below this one\n",
    "        below = df.loc[r+1:,c]\n",
    "        if any(below >=h):\n",
    "            visible_below = False\n",
    "\n",
    "        if any([visible_left, visible_right, visible_above, visible_below]):\n",
    "            num_visible_trees += 1\n",
    "\n",
    "num_visible_trees\n"
   ]
  }
 ],
 "metadata": {
  "kernelspec": {
   "display_name": "Python 3.10.8 64-bit",
   "language": "python",
   "name": "python3"
  },
  "language_info": {
   "codemirror_mode": {
    "name": "ipython",
    "version": 3
   },
   "file_extension": ".py",
   "mimetype": "text/x-python",
   "name": "python",
   "nbconvert_exporter": "python",
   "pygments_lexer": "ipython3",
   "version": "3.10.8"
  },
  "orig_nbformat": 4,
  "vscode": {
   "interpreter": {
    "hash": "b0fa6594d8f4cbf19f97940f81e996739fb7646882a419484c72d19e05852a7e"
   }
  }
 },
 "nbformat": 4,
 "nbformat_minor": 2
}
