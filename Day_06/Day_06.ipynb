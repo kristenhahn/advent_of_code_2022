{
 "cells": [
  {
   "cell_type": "code",
   "execution_count": 6,
   "metadata": {},
   "outputs": [],
   "source": [
    "# Advent of Code 2022\n",
    "# Day 6\n",
    "# https://adventofcode.com/2022/day/6"
   ]
  },
  {
   "cell_type": "code",
   "execution_count": 11,
   "metadata": {},
   "outputs": [],
   "source": [
    "with open(\"data.txt\") as f:\n",
    "    data = f.read()\n"
   ]
  },
  {
   "cell_type": "code",
   "execution_count": 10,
   "metadata": {},
   "outputs": [
    {
     "data": {
      "text/plain": [
       "1282"
      ]
     },
     "execution_count": 10,
     "metadata": {},
     "output_type": "execute_result"
    }
   ],
   "source": [
    "\n",
    "# find the start of packet\n",
    "def find_sop(data):\n",
    "    # start at letter 0\n",
    "    i = 0\n",
    "    # set flag to stop earching for the start of packet\n",
    "    keep_looking = True\n",
    "\n",
    "    while keep_looking:\n",
    "        # Consider 4 letters starting at index i\n",
    "        letters = data[i:i+4]\n",
    "        # Get a set of unique letters\n",
    "        unique_letters = set(letters)\n",
    "        # if there are 4 unique letters, the start of packet is found\n",
    "        if len(unique_letters)==4:\n",
    "            keep_looking = False\n",
    "            # return the index of the start of packet (4 past the start of the current 4-letter group)\n",
    "            return i+4\n",
    "            break\n",
    "        # if there are not 4 unique letters, move one letter over and check\n",
    "        # the next group of 4 letters\n",
    "        else:\n",
    "            i+=1\n",
    "\n",
    "\n",
    "find_sop(data)\n",
    "        \n"
   ]
  },
  {
   "cell_type": "code",
   "execution_count": 12,
   "metadata": {},
   "outputs": [],
   "source": [
    "# Day 6 Part 2\n",
    "# https://adventofcode.com/2022/day/6#part2\n",
    "\n",
    "\n"
   ]
  },
  {
   "cell_type": "code",
   "execution_count": null,
   "metadata": {},
   "outputs": [],
   "source": []
  }
 ],
 "metadata": {
  "kernelspec": {
   "display_name": "Python 3.10.8 64-bit",
   "language": "python",
   "name": "python3"
  },
  "language_info": {
   "codemirror_mode": {
    "name": "ipython",
    "version": 3
   },
   "file_extension": ".py",
   "mimetype": "text/x-python",
   "name": "python",
   "nbconvert_exporter": "python",
   "pygments_lexer": "ipython3",
   "version": "3.10.8"
  },
  "orig_nbformat": 4,
  "vscode": {
   "interpreter": {
    "hash": "b0fa6594d8f4cbf19f97940f81e996739fb7646882a419484c72d19e05852a7e"
   }
  }
 },
 "nbformat": 4,
 "nbformat_minor": 2
}
