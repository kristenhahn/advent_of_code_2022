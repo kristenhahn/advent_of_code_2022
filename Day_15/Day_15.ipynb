{
 "cells": [
  {
   "cell_type": "code",
   "execution_count": 1,
   "metadata": {},
   "outputs": [],
   "source": [
    "# Advent of Code 2022\n",
    "# Day 15\n",
    "# https://adventofcode.com/2022/day/15\n",
    "\n",
    "import re\n",
    "\n",
    "with open('input.txt') as f:\n",
    "    data = f.read()\n",
    "    lines = data.split('\\n')\n",
    "    lines = list(filter(None, lines))\n",
    "\n"
   ]
  },
  {
   "cell_type": "code",
   "execution_count": 2,
   "metadata": {},
   "outputs": [],
   "source": [
    "# parse strings to get sensor and beacon coordinates\n",
    "def get_coords(line):\n",
    "    re_sensors_beacons = re.compile(r'(\\-*\\d+)')\n",
    "    xy_nums = list(re_sensors_beacons.findall(line))\n",
    "    for i, num in enumerate(xy_nums):\n",
    "        xy_nums[i] = int(num)\n",
    "    return (xy_nums)\n",
    "\n"
   ]
  },
  {
   "cell_type": "code",
   "execution_count": 3,
   "metadata": {},
   "outputs": [
    {
     "data": {
      "text/plain": [
       "set()"
      ]
     },
     "execution_count": 3,
     "metadata": {},
     "output_type": "execute_result"
    }
   ],
   "source": [
    "# # set of all beacons\n",
    "# beacon_points = set()\n",
    "# for l in lines:\n",
    "#     coords = get_coords(l)\n",
    "#     x = coords[2]\n",
    "#     y = coords[3]\n",
    "#     coords = (x, y)\n",
    "#     beacon_points.add(coords)\n",
    "\n",
    "# set of all beacons in a given row\n",
    "def get_beacon_points_row(test_row):\n",
    "    beacon_points_row = set()\n",
    "    for l in lines:\n",
    "        coords = get_coords(l)\n",
    "        x = coords[2]\n",
    "        y = coords[3]\n",
    "        if y == test_row:\n",
    "            coords = (x, y)\n",
    "            beacon_points_row.add(coords)\n",
    "    return beacon_points_row\n",
    "\n",
    "\n",
    "# # set of all sensors\n",
    "# sensor_points = set()\n",
    "# for l in lines:\n",
    "#     coords = get_coords(l)\n",
    "#     x = coords[0]\n",
    "#     y = coords[1]\n",
    "#     coords = (x, y)\n",
    "#     sensor_points.add(coords)\n",
    "\n",
    "# set of all beacons in a given row\n",
    "def get_sensor_points_row(test_row):\n",
    "    sensor_points_row = set()\n",
    "    for l in lines:\n",
    "        coords = get_coords(l)\n",
    "        x = coords[0]\n",
    "        y = coords[1]\n",
    "        if y == test_row:\n",
    "            coords = (x, y)\n",
    "            sensor_points_row.add(coords)\n",
    "    return sensor_points_row\n",
    "\n",
    "\n",
    "get_beacon_points_row(3)\n"
   ]
  },
  {
   "cell_type": "code",
   "execution_count": 4,
   "metadata": {},
   "outputs": [],
   "source": [
    "def get_dist (line):\n",
    "    sx, sy, bx, by = get_coords(line)\n",
    "    dist = abs(sx-bx) + abs(sy-by)\n",
    "    return dist"
   ]
  },
  {
   "cell_type": "code",
   "execution_count": 5,
   "metadata": {},
   "outputs": [],
   "source": [
    "# list all points within range of a sensor-beacon pair\n",
    "# but only if they are also within range of a given row\n",
    "def get_nearby_points(line, test_row):\n",
    "\n",
    "    # generate a set to contain all beaconless points\n",
    "    nearby = set()\n",
    "\n",
    "    # identify sensor and beacon x-y coordinates\n",
    "    sx, sy, bx, by = get_coords(line)\n",
    "\n",
    "\n",
    "    # get distance between beacon and sensor\n",
    "    dist = get_dist(line)\n",
    "\n",
    "    # test to see if the area covered by this\n",
    "    # sensor-beacon pair is within range of the\n",
    "    # test line\n",
    "    if abs(sy-test_row) <= dist:\n",
    "\n",
    "        # # for each x value, caluclate min and max y values\n",
    "        # for x in range(sx-dist, sx+dist+1):\n",
    "        #     x_dist = abs(x-sx)\n",
    "        #     y_dist = dist - x_dist\n",
    "        #     y_min = sy - y_dist\n",
    "        #     y_max = sy + y_dist\n",
    "\n",
    "        #     # add all points between min and max x-y coords to the set\n",
    "        #     points_list = [(x,y) for y in range(y_min, y_max+1)]\n",
    "        #     nearby.update(points_list)\n",
    "\n",
    "        y_dist = abs(sy - test_row)\n",
    "        x_dist = dist - y_dist\n",
    "        x_min = sx - x_dist\n",
    "        x_max = sx + x_dist\n",
    "        points_list = [(x, test_row) for x in range(x_min, x_max+1)]\n",
    "        nearby.update(points_list)\n",
    "    \n",
    "    return nearby\n",
    "\n",
    "\n"
   ]
  },
  {
   "cell_type": "code",
   "execution_count": 6,
   "metadata": {},
   "outputs": [],
   "source": [
    "# get all of the points within range of all beacon-sensor pairs near\n",
    "# the test row\n",
    "\n",
    "def get_all_points_near(test_row):\n",
    "    \n",
    "    all_nearby_points = set()\n",
    "    for l in lines:\n",
    "        all_nearby_points.update(get_nearby_points(l, test_row))\n",
    "\n",
    "    # eliminate points where beacons or sensors are already known to exist:\n",
    "    beaconless = all_nearby_points - get_beacon_points_row(test_row) - get_sensor_points_row(test_row)\n",
    "\n",
    "    return beaconless\n",
    "\n"
   ]
  },
  {
   "cell_type": "code",
   "execution_count": 7,
   "metadata": {},
   "outputs": [
    {
     "name": "stdout",
     "output_type": "stream",
     "text": [
      "4560025\n"
     ]
    }
   ],
   "source": [
    "# Count beaconless points for a given row:\n",
    "def count_nearby(test_row):\n",
    "\n",
    "    beaconless = get_all_points_near(test_row)\n",
    "\n",
    "    nearby_row_list = [i for i in beaconless if i[1]==test_row]\n",
    "    return len(nearby_row_list)\n",
    "\n",
    "answer = count_nearby(2000000)\n",
    "\n",
    "print(answer)\n",
    "\n"
   ]
  },
  {
   "cell_type": "code",
   "execution_count": 8,
   "metadata": {},
   "outputs": [],
   "source": [
    "# Par 2:  With x and y both in the range 0 to <some max number>, find the only\n",
    "# point where a beacon could be.  Tuning frequency = x * 4000000 + y.\n",
    "\n",
    "\n",
    "\n",
    "# revised version includes all sensor and beacon points\n",
    "def get_all_points_near_incl_sb(test_row, max_index):\n",
    "    \n",
    "    all_nearby_points = set()\n",
    "    for l in lines:\n",
    "        nearby_points = get_nearby_points(l, test_row)\n",
    "        # filter to remove points outside the max index range\n",
    "        nearby_points = {n for n in nearby_points if 0 <= n[1] <= max_index}\n",
    "        all_nearby_points.update(nearby_points)\n",
    "\n",
    "    # # eliminate points where beacons or sensors are already known to exist:\n",
    "    # beaconless = all_nearby_points - get_beacon_points_row(test_row) - get_sensor_points_row(test_row)\n",
    "\n",
    "    return all_nearby_points\n",
    "\n",
    "\n",
    "# Exclude all points that are either already occupied OR known to be empty\n",
    "# (anything within a sensor-beacon range).  Only consider the ones that fall\n",
    "# within the specified maximum index for the X or Y value.\n",
    "def count_excluded_points_row(test_row, max_index):\n",
    "    \n",
    "    excluded_points = set()\n",
    "    for l in lines:\n",
    "        # all_nearby = list(get_nearby_points(l, test_row))\n",
    "        excluded_points.update(get_all_points_near_incl_sb(test_row, max_index))\n",
    "\n",
    "    # narrow excluded points to only the ones in the max_index range\n",
    "    excluded_points = {p for p in excluded_points if 0 <= p[0] <= max_index}\n",
    "\n",
    "    # check whether every X value is accounted for in the excluded points.\n",
    "    all_x_values = {x for x in range(max_index+1)}\n",
    "    excluded_x_values = {p[0] for p in excluded_points}\n",
    "        \n",
    "    # If there is an x value that hasn't been excluded, \n",
    "    # that is a possible beacon location. Return it.\n",
    "    difference = all_x_values - excluded_x_values\n",
    "\n",
    "    if len(difference) > 0:\n",
    "        x_excluded = list(difference)[0]\n",
    "        return x_excluded\n",
    "\n",
    "\n",
    "\n",
    "\n"
   ]
  },
  {
   "cell_type": "code",
   "execution_count": 9,
   "metadata": {},
   "outputs": [],
   "source": [
    "# test each row and find the x-y coordinate of the potential beacon spot.\n",
    "# Return the tuning frequency of that point.\n",
    "\n",
    "def find_beacon_tf(max_index):\n",
    "    for y in range(max_index+1):\n",
    "        x = count_excluded_points_row(y, max_index)\n",
    "        if x != None:\n",
    "            \n",
    "            # calculate tuning frequency\n",
    "            tf = x * 4000000 + y\n",
    "\n",
    "            return tf\n",
    "\n",
    "find_beacon_tf(20)"
   ]
  },
  {
   "cell_type": "code",
   "execution_count": null,
   "metadata": {},
   "outputs": [],
   "source": []
  }
 ],
 "metadata": {
  "kernelspec": {
   "display_name": "Python 3",
   "language": "python",
   "name": "python3"
  },
  "language_info": {
   "codemirror_mode": {
    "name": "ipython",
    "version": 3
   },
   "file_extension": ".py",
   "mimetype": "text/x-python",
   "name": "python",
   "nbconvert_exporter": "python",
   "pygments_lexer": "ipython3",
   "version": "3.10.8"
  },
  "orig_nbformat": 4,
  "vscode": {
   "interpreter": {
    "hash": "b0fa6594d8f4cbf19f97940f81e996739fb7646882a419484c72d19e05852a7e"
   }
  }
 },
 "nbformat": 4,
 "nbformat_minor": 2
}
