{
 "cells": [
  {
   "cell_type": "code",
   "execution_count": 15,
   "metadata": {},
   "outputs": [],
   "source": [
    "# Advent of Code 2022\n",
    "# Day 15\n",
    "# https://adventofcode.com/2022/day/15\n",
    "\n",
    "import re\n",
    "\n",
    "with open('test_input.txt') as f:\n",
    "    data = f.read()\n",
    "    lines = data.split('\\n')\n",
    "    lines = list(filter(None, lines))\n",
    "\n"
   ]
  },
  {
   "cell_type": "code",
   "execution_count": 77,
   "metadata": {},
   "outputs": [],
   "source": [
    "# parse strings to get sensor and beacon coordinates\n",
    "def get_coords(line):\n",
    "    re_sensors_beacons = re.compile(r'(\\-*\\d+)')\n",
    "    xy_nums = list(re_sensors_beacons.findall(line))\n",
    "    for i, num in enumerate(xy_nums):\n",
    "        xy_nums[i] = int(num)\n",
    "    return (xy_nums)\n",
    "\n"
   ]
  },
  {
   "cell_type": "code",
   "execution_count": 119,
   "metadata": {},
   "outputs": [],
   "source": [
    "# set of all beacons\n",
    "beacon_points = set()\n",
    "for l in lines:\n",
    "    coords = get_coords(l)\n",
    "    x = coords[2]\n",
    "    y = coords[3]\n",
    "    coords = (x, y)\n",
    "    beacon_points.add(coords)\n",
    "\n",
    "# set of all sensors\n",
    "sensor_points = set()\n",
    "for l in lines:\n",
    "    coords = get_coords(l)\n",
    "    x = coords[0]\n",
    "    y = coords[1]\n",
    "    coords = (x, y)\n",
    "    sensor_points.add(coords)\n"
   ]
  },
  {
   "cell_type": "code",
   "execution_count": 81,
   "metadata": {},
   "outputs": [],
   "source": [
    "def get_dist (line):\n",
    "    sx, sy, bx, by = get_coords(line)\n",
    "    dist = abs(sx-bx) + abs(sy-by)\n",
    "    return dist"
   ]
  },
  {
   "cell_type": "code",
   "execution_count": null,
   "metadata": {},
   "outputs": [],
   "source": []
  },
  {
   "cell_type": "code",
   "execution_count": 111,
   "metadata": {},
   "outputs": [],
   "source": [
    "# list all points within range of a sensor-beacon pair\n",
    "def get_nearby_points(line):\n",
    "\n",
    "    # generate a set to conatin all beaconless points\n",
    "    nearby = set()\n",
    "\n",
    "    # identify sensor and beacon x-y coordinates\n",
    "    sx, sy, bx, by = get_coords(line)\n",
    "\n",
    "    # get distance between beacon and sensor\n",
    "    dist = get_dist(line)\n",
    "\n",
    "    # for each x value, caluclate min and max y values\n",
    "    for x in range(sx-dist, sx+dist+1):\n",
    "        x_dist = abs(x-sx)\n",
    "        y_dist = dist - x_dist\n",
    "        y_min = sy - y_dist\n",
    "        y_max = sy + y_dist\n",
    "\n",
    "        # add all points between min and max x-y coords to the set\n",
    "        points_list = [(x,y) for y in range(y_min, y_max+1)]\n",
    "        nearby.update(points_list)\n",
    "    \n",
    "    return nearby\n",
    "\n",
    "\n"
   ]
  },
  {
   "cell_type": "code",
   "execution_count": 122,
   "metadata": {},
   "outputs": [],
   "source": [
    "# get all of the points within range of all beacon-sensor pairs\n",
    "all_nearby_points = set()\n",
    "for l in lines:\n",
    "    all_nearby_points.update(get_nearby_points(l))\n",
    "\n",
    "# eliminate points where beacons or sensors are already known to exist:\n",
    "beaconless = all_nearby_points - beacon_points - sensor_points\n"
   ]
  },
  {
   "cell_type": "code",
   "execution_count": 125,
   "metadata": {},
   "outputs": [],
   "source": [
    "# Count beaconless points for a given row:\n",
    "def count_nearby(row):\n",
    "    nearby_row_list = [i for i in beaconless if i[1]==row]\n",
    "    return len(nearby_row_list)\n",
    "\n",
    "answer = count_nearby(2000000)\n",
    "print(answer)\n",
    "\n",
    "\n",
    "        \n"
   ]
  },
  {
   "cell_type": "code",
   "execution_count": null,
   "metadata": {},
   "outputs": [],
   "source": [
    "lines"
   ]
  },
  {
   "cell_type": "code",
   "execution_count": null,
   "metadata": {},
   "outputs": [],
   "source": []
  }
 ],
 "metadata": {
  "kernelspec": {
   "display_name": "Python 3",
   "language": "python",
   "name": "python3"
  },
  "language_info": {
   "codemirror_mode": {
    "name": "ipython",
    "version": 3
   },
   "file_extension": ".py",
   "mimetype": "text/x-python",
   "name": "python",
   "nbconvert_exporter": "python",
   "pygments_lexer": "ipython3",
   "version": "3.10.8"
  },
  "orig_nbformat": 4,
  "vscode": {
   "interpreter": {
    "hash": "b0fa6594d8f4cbf19f97940f81e996739fb7646882a419484c72d19e05852a7e"
   }
  }
 },
 "nbformat": 4,
 "nbformat_minor": 2
}
