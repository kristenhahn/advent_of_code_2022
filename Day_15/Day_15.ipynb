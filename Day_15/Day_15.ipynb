{
 "cells": [
  {
   "cell_type": "code",
   "execution_count": 1,
   "metadata": {},
   "outputs": [],
   "source": [
    "# Advent of Code 2022\n",
    "# Day 15\n",
    "# https://adventofcode.com/2022/day/15\n",
    "\n",
    "import re\n",
    "\n",
    "with open('input.txt') as f:\n",
    "    data = f.read()\n",
    "    lines = data.split('\\n')\n",
    "    lines = list(filter(None, lines))\n",
    "\n"
   ]
  },
  {
   "cell_type": "code",
   "execution_count": 2,
   "metadata": {},
   "outputs": [],
   "source": [
    "# parse strings to get sensor and beacon coordinates\n",
    "def get_coords(line):\n",
    "    re_sensors_beacons = re.compile(r'(\\-*\\d+)')\n",
    "    xy_nums = list(re_sensors_beacons.findall(line))\n",
    "    for i, num in enumerate(xy_nums):\n",
    "        xy_nums[i] = int(num)\n",
    "    return (xy_nums)\n",
    "\n"
   ]
  },
  {
   "cell_type": "code",
   "execution_count": 3,
   "metadata": {},
   "outputs": [
    {
     "data": {
      "text/plain": [
       "set()"
      ]
     },
     "execution_count": 3,
     "metadata": {},
     "output_type": "execute_result"
    }
   ],
   "source": [
    "# # set of all beacons\n",
    "# beacon_points = set()\n",
    "# for l in lines:\n",
    "#     coords = get_coords(l)\n",
    "#     x = coords[2]\n",
    "#     y = coords[3]\n",
    "#     coords = (x, y)\n",
    "#     beacon_points.add(coords)\n",
    "\n",
    "# set of all beacons in a given row\n",
    "def get_beacon_points_row(test_row):\n",
    "    beacon_points_row = set()\n",
    "    for l in lines:\n",
    "        coords = get_coords(l)\n",
    "        x = coords[2]\n",
    "        y = coords[3]\n",
    "        if y == test_row:\n",
    "            coords = (x, y)\n",
    "            beacon_points_row.add(coords)\n",
    "    return beacon_points_row\n",
    "\n",
    "\n",
    "# # set of all sensors\n",
    "# sensor_points = set()\n",
    "# for l in lines:\n",
    "#     coords = get_coords(l)\n",
    "#     x = coords[0]\n",
    "#     y = coords[1]\n",
    "#     coords = (x, y)\n",
    "#     sensor_points.add(coords)\n",
    "\n",
    "# set of all sensors in a given row\n",
    "def get_sensor_points_row(test_row):\n",
    "    sensor_points_row = set()\n",
    "    for l in lines:\n",
    "        coords = get_coords(l)\n",
    "        x = coords[0]\n",
    "        y = coords[1]\n",
    "        if y == test_row:\n",
    "            coords = (x, y)\n",
    "            sensor_points_row.add(coords)\n",
    "    return sensor_points_row\n",
    "\n",
    "\n",
    "get_beacon_points_row(3)\n"
   ]
  },
  {
   "cell_type": "code",
   "execution_count": 4,
   "metadata": {},
   "outputs": [],
   "source": [
    "def get_dist (line):\n",
    "    sx, sy, bx, by = get_coords(line)\n",
    "    dist = abs(sx-bx) + abs(sy-by)\n",
    "    return dist"
   ]
  },
  {
   "cell_type": "code",
   "execution_count": 5,
   "metadata": {},
   "outputs": [],
   "source": [
    "# list all points within range of a sensor-beacon pair\n",
    "# but only if they are also within range of a given row\n",
    "def get_nearby_points(line, test_row):\n",
    "\n",
    "    # generate a set to contain all beaconless points\n",
    "    nearby = set()\n",
    "\n",
    "    # identify sensor and beacon x-y coordinates\n",
    "    sx, sy, bx, by = get_coords(line)\n",
    "\n",
    "\n",
    "    # get distance between beacon and sensor\n",
    "    dist = get_dist(line)\n",
    "\n",
    "    # test to see if the area covered by this\n",
    "    # sensor-beacon pair is within range of the\n",
    "    # test line\n",
    "    if abs(sy-test_row) <= dist:\n",
    "\n",
    "        # # for each x value, caluclate min and max y values\n",
    "        # for x in range(sx-dist, sx+dist+1):\n",
    "        #     x_dist = abs(x-sx)\n",
    "        #     y_dist = dist - x_dist\n",
    "        #     y_min = sy - y_dist\n",
    "        #     y_max = sy + y_dist\n",
    "\n",
    "        #     # add all points between min and max x-y coords to the set\n",
    "        #     points_list = [(x,y) for y in range(y_min, y_max+1)]\n",
    "        #     nearby.update(points_list)\n",
    "\n",
    "        y_dist = abs(sy - test_row)\n",
    "        x_dist = dist - y_dist\n",
    "        x_min = sx - x_dist\n",
    "        x_max = sx + x_dist\n",
    "        points_list = [(x, test_row) for x in range(x_min, x_max+1)]\n",
    "        nearby.update(points_list)\n",
    "    \n",
    "    return nearby\n",
    "\n",
    "\n"
   ]
  },
  {
   "cell_type": "code",
   "execution_count": 6,
   "metadata": {},
   "outputs": [],
   "source": [
    "# get all of the points within range of all beacon-sensor pairs near\n",
    "# the test row\n",
    "\n",
    "def get_all_points_near(test_row):\n",
    "    \n",
    "    all_nearby_points = set()\n",
    "    for l in lines:\n",
    "        all_nearby_points.update(get_nearby_points(l, test_row))\n",
    "\n",
    "    # eliminate points where beacons or sensors are already known to exist:\n",
    "    beaconless = all_nearby_points - get_beacon_points_row(test_row) - get_sensor_points_row(test_row)\n",
    "\n",
    "    return beaconless\n",
    "\n"
   ]
  },
  {
   "cell_type": "code",
   "execution_count": 7,
   "metadata": {},
   "outputs": [
    {
     "name": "stdout",
     "output_type": "stream",
     "text": [
      "4560025\n"
     ]
    }
   ],
   "source": [
    "# Count beaconless points for a given row:\n",
    "def count_nearby(test_row):\n",
    "\n",
    "    beaconless = get_all_points_near(test_row)\n",
    "\n",
    "    nearby_row_list = [i for i in beaconless if i[1]==test_row]\n",
    "    return len(nearby_row_list)\n",
    "\n",
    "answer = count_nearby(2000000)\n",
    "\n",
    "print(answer)\n",
    "\n"
   ]
  },
  {
   "cell_type": "code",
   "execution_count": 8,
   "metadata": {},
   "outputs": [],
   "source": [
    "# Part 2 New Strategy:\n",
    "\n",
    "# based on hints from others:  check all points around every sensor instad of iterating \n",
    "# through rows.\n",
    "\n",
    "#same as part 1\n",
    "with open('input.txt') as f:\n",
    "    data = f.read()\n",
    "    lines = data.split('\\n')\n",
    "    lines = list(filter(None, lines))\n"
   ]
  },
  {
   "cell_type": "code",
   "execution_count": 9,
   "metadata": {},
   "outputs": [],
   "source": [
    "def get_sensor_info(line):\n",
    "    \"\"\"get sensor coordinates and range (distance from\n",
    "    sensor to beacon):  (sx, sy, range)\"\"\"\n",
    "    re_sensors_beacons = re.compile(r'(\\-*\\d+)')\n",
    "    xy_nums = list(re_sensors_beacons.findall(line))\n",
    "    for i, num in enumerate(xy_nums):\n",
    "        xy_nums[i] = int(num)\n",
    "    sx = xy_nums[0]\n",
    "    sy = xy_nums[1]\n",
    "    bx = xy_nums[2]\n",
    "    by = xy_nums[3]\n",
    "    s_point = (sx, sy)\n",
    "    s_range = abs(sx-bx) + abs(sy-by)\n",
    "    # s_zero_dist = abs(sx) + abs(sy)\n",
    "\n",
    "    return(sx, sy, s_range)\n",
    "\n"
   ]
  },
  {
   "cell_type": "code",
   "execution_count": 10,
   "metadata": {},
   "outputs": [],
   "source": [
    "\n",
    "# find min/max x value for each row's checked range using each sensor.\n",
    "# sort the ranges by x value so you can review them for overlaps / adjacency in order.\n",
    "# if max (range) >= min (next_range)+1:\n",
    "#       gap exists. Beacon found.\n",
    "\n",
    "\n",
    "sensors = []\n",
    "for l in lines:\n",
    "    sensors.append(get_sensor_info(l))\n",
    "\n",
    "def get_sensor_range_for_row(sensor, row):\n",
    "\n",
    "    sx = sensor[0]\n",
    "    sy = sensor[1]\n",
    "    s_range = sensor[2]\n",
    "\n",
    "    if abs(sy-row) <= s_range:\n",
    "\n",
    "        y_dist = abs(sy-row)\n",
    "        x_dist = s_range - y_dist\n",
    "\n",
    "        x_min = sx - x_dist\n",
    "        x_max = sx + x_dist\n",
    "\n",
    "        r_range = (x_min, x_max)\n",
    "        return r_range\n",
    "        \n"
   ]
  },
  {
   "cell_type": "code",
   "execution_count": 11,
   "metadata": {},
   "outputs": [],
   "source": [
    "def get_all_ranges_for_row(row):\n",
    "    row_ranges = []\n",
    "    for s in sensors:\n",
    "        s_r_range = get_sensor_range_for_row(s,row)\n",
    "        row_ranges.append(s_r_range)\n",
    "        row_ranges = [r for r in row_ranges if r != None]\n",
    "        row_ranges.sort()\n",
    "    \n",
    "    return row_ranges\n",
    "    \n"
   ]
  },
  {
   "cell_type": "code",
   "execution_count": 12,
   "metadata": {},
   "outputs": [],
   "source": [
    "def find_gaps_in_ranges(sorted_row_ranges, max_xy):\n",
    "\n",
    "    x_min = None\n",
    "    x_max = None\n",
    "\n",
    "    for r in sorted_row_ranges:\n",
    "        # print(f'\\n{r}')\n",
    "        r_min = r[0]\n",
    "        r_max = r[1]\n",
    "        if x_min == None:\n",
    "            x_min = r_min\n",
    "            # print(f'first if: X_min was none, now it is {x_min}')\n",
    "        if x_max == None:\n",
    "            x_max = r_max\n",
    "            # print(f'first if: X_max was none, now it is {x_max}')\n",
    "\n",
    "        # print(f'x min: {x_min}, x max: {x_max}')\n",
    "\n",
    "        # if 0 is outside the min/max range, column 0 is a gap.\n",
    "        if x_min > 0:\n",
    "            return 0\n",
    "\n",
    "        # if the new range's min is still within the max_xy range:\n",
    "        if r_min <= max_xy:\n",
    "\n",
    "            # if ranges don't overlap:\n",
    "            # min is higher than previous max +1\n",
    "            if r_min > x_max+1:\n",
    "                # print(f'second if: r_min is {r_min}')\n",
    "                # print(f'second if: x_max is {x_max}')\n",
    "                x_gap = x_max+1\n",
    "                return x_gap\n",
    "                    \n",
    "            if r_max > x_max:\n",
    "                x_max = r_max  \n"
   ]
  },
  {
   "cell_type": "code",
   "execution_count": 13,
   "metadata": {},
   "outputs": [],
   "source": [
    "def find_gap(max_xy):\n",
    "    for y in range(max_xy+1):\n",
    "\n",
    "        sorted_row_ranges = get_all_ranges_for_row(y)\n",
    "\n",
    "        for s in sorted_row_ranges:\n",
    "            gap_x = find_gaps_in_ranges(sorted_row_ranges, max_xy)\n",
    "        \n",
    "        if gap_x != None:\n",
    "            return (gap_x, y)\n",
    "\n"
   ]
  },
  {
   "cell_type": "code",
   "execution_count": 14,
   "metadata": {},
   "outputs": [
    {
     "name": "stdout",
     "output_type": "stream",
     "text": [
      "12480406634249\n"
     ]
    }
   ],
   "source": [
    "# find the tuning frequency\n",
    "\n",
    "gap = find_gap(4000000)\n",
    "\n",
    "x = gap[0]\n",
    "y = gap[1]\n",
    "\n",
    "tuning_frequency = 4000000 *  x + y\n",
    "\n",
    "print(tuning_frequency)\n"
   ]
  },
  {
   "cell_type": "code",
   "execution_count": null,
   "metadata": {},
   "outputs": [],
   "source": []
  }
 ],
 "metadata": {
  "kernelspec": {
   "display_name": "Python 3",
   "language": "python",
   "name": "python3"
  },
  "language_info": {
   "codemirror_mode": {
    "name": "ipython",
    "version": 3
   },
   "file_extension": ".py",
   "mimetype": "text/x-python",
   "name": "python",
   "nbconvert_exporter": "python",
   "pygments_lexer": "ipython3",
   "version": "3.10.8"
  },
  "orig_nbformat": 4,
  "vscode": {
   "interpreter": {
    "hash": "b0fa6594d8f4cbf19f97940f81e996739fb7646882a419484c72d19e05852a7e"
   }
  }
 },
 "nbformat": 4,
 "nbformat_minor": 2
}
