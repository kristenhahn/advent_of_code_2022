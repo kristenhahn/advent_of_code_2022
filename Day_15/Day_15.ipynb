{
 "cells": [
  {
   "cell_type": "code",
   "execution_count": 47,
   "metadata": {},
   "outputs": [],
   "source": [
    "# Advent of Code 2022\n",
    "# Day 15\n",
    "# https://adventofcode.com/2022/day/15\n",
    "\n",
    "import re\n",
    "\n",
    "with open('input.txt') as f:\n",
    "    data = f.read()\n",
    "    lines = data.split('\\n')\n",
    "    lines = list(filter(None, lines))\n",
    "\n"
   ]
  },
  {
   "cell_type": "code",
   "execution_count": 48,
   "metadata": {},
   "outputs": [],
   "source": [
    "# parse strings to get sensor and beacon coordinates\n",
    "def get_coords(line):\n",
    "    re_sensors_beacons = re.compile(r'(\\-*\\d+)')\n",
    "    xy_nums = list(re_sensors_beacons.findall(line))\n",
    "    for i, num in enumerate(xy_nums):\n",
    "        xy_nums[i] = int(num)\n",
    "    return (xy_nums)\n",
    "\n"
   ]
  },
  {
   "cell_type": "code",
   "execution_count": 49,
   "metadata": {},
   "outputs": [
    {
     "data": {
      "text/plain": [
       "set()"
      ]
     },
     "execution_count": 49,
     "metadata": {},
     "output_type": "execute_result"
    }
   ],
   "source": [
    "# # set of all beacons\n",
    "# beacon_points = set()\n",
    "# for l in lines:\n",
    "#     coords = get_coords(l)\n",
    "#     x = coords[2]\n",
    "#     y = coords[3]\n",
    "#     coords = (x, y)\n",
    "#     beacon_points.add(coords)\n",
    "\n",
    "# set of all beacons in a given row\n",
    "def get_beacon_points_row(test_row):\n",
    "    beacon_points_row = set()\n",
    "    for l in lines:\n",
    "        coords = get_coords(l)\n",
    "        x = coords[2]\n",
    "        y = coords[3]\n",
    "        if y == test_row:\n",
    "            coords = (x, y)\n",
    "            beacon_points_row.add(coords)\n",
    "    return beacon_points_row\n",
    "\n",
    "\n",
    "# # set of all sensors\n",
    "# sensor_points = set()\n",
    "# for l in lines:\n",
    "#     coords = get_coords(l)\n",
    "#     x = coords[0]\n",
    "#     y = coords[1]\n",
    "#     coords = (x, y)\n",
    "#     sensor_points.add(coords)\n",
    "\n",
    "# set of all sensors in a given row\n",
    "def get_sensor_points_row(test_row):\n",
    "    sensor_points_row = set()\n",
    "    for l in lines:\n",
    "        coords = get_coords(l)\n",
    "        x = coords[0]\n",
    "        y = coords[1]\n",
    "        if y == test_row:\n",
    "            coords = (x, y)\n",
    "            sensor_points_row.add(coords)\n",
    "    return sensor_points_row\n",
    "\n",
    "\n",
    "get_beacon_points_row(3)\n"
   ]
  },
  {
   "cell_type": "code",
   "execution_count": 50,
   "metadata": {},
   "outputs": [],
   "source": [
    "def get_dist (line):\n",
    "    sx, sy, bx, by = get_coords(line)\n",
    "    dist = abs(sx-bx) + abs(sy-by)\n",
    "    return dist"
   ]
  },
  {
   "cell_type": "code",
   "execution_count": 51,
   "metadata": {},
   "outputs": [],
   "source": [
    "# list all points within range of a sensor-beacon pair\n",
    "# but only if they are also within range of a given row\n",
    "def get_nearby_points(line, test_row):\n",
    "\n",
    "    # generate a set to contain all beaconless points\n",
    "    nearby = set()\n",
    "\n",
    "    # identify sensor and beacon x-y coordinates\n",
    "    sx, sy, bx, by = get_coords(line)\n",
    "\n",
    "\n",
    "    # get distance between beacon and sensor\n",
    "    dist = get_dist(line)\n",
    "\n",
    "    # test to see if the area covered by this\n",
    "    # sensor-beacon pair is within range of the\n",
    "    # test line\n",
    "    if abs(sy-test_row) <= dist:\n",
    "\n",
    "        # # for each x value, caluclate min and max y values\n",
    "        # for x in range(sx-dist, sx+dist+1):\n",
    "        #     x_dist = abs(x-sx)\n",
    "        #     y_dist = dist - x_dist\n",
    "        #     y_min = sy - y_dist\n",
    "        #     y_max = sy + y_dist\n",
    "\n",
    "        #     # add all points between min and max x-y coords to the set\n",
    "        #     points_list = [(x,y) for y in range(y_min, y_max+1)]\n",
    "        #     nearby.update(points_list)\n",
    "\n",
    "        y_dist = abs(sy - test_row)\n",
    "        x_dist = dist - y_dist\n",
    "        x_min = sx - x_dist\n",
    "        x_max = sx + x_dist\n",
    "        points_list = [(x, test_row) for x in range(x_min, x_max+1)]\n",
    "        nearby.update(points_list)\n",
    "    \n",
    "    return nearby\n",
    "\n",
    "\n"
   ]
  },
  {
   "cell_type": "code",
   "execution_count": 52,
   "metadata": {},
   "outputs": [],
   "source": [
    "# get all of the points within range of all beacon-sensor pairs near\n",
    "# the test row\n",
    "\n",
    "def get_all_points_near(test_row):\n",
    "    \n",
    "    all_nearby_points = set()\n",
    "    for l in lines:\n",
    "        all_nearby_points.update(get_nearby_points(l, test_row))\n",
    "\n",
    "    # eliminate points where beacons or sensors are already known to exist:\n",
    "    beaconless = all_nearby_points - get_beacon_points_row(test_row) - get_sensor_points_row(test_row)\n",
    "\n",
    "    return beaconless\n",
    "\n"
   ]
  },
  {
   "cell_type": "code",
   "execution_count": 53,
   "metadata": {},
   "outputs": [
    {
     "name": "stdout",
     "output_type": "stream",
     "text": [
      "4560025\n"
     ]
    }
   ],
   "source": [
    "# Count beaconless points for a given row:\n",
    "def count_nearby(test_row):\n",
    "\n",
    "    beaconless = get_all_points_near(test_row)\n",
    "\n",
    "    nearby_row_list = [i for i in beaconless if i[1]==test_row]\n",
    "    return len(nearby_row_list)\n",
    "\n",
    "answer = count_nearby(2000000)\n",
    "\n",
    "print(answer)\n",
    "\n"
   ]
  },
  {
   "cell_type": "code",
   "execution_count": 54,
   "metadata": {},
   "outputs": [],
   "source": [
    "# Part 2:  With x and y both in the range 0 to <some max number>, find the only\n",
    "# point where a beacon could be.  Tuning frequency = x * 4000000 + y.\n",
    "\n",
    "# # revised get_nearby_points formula, only need X values.\n",
    "# def find_beacon_x(test_row, max_index):\n",
    "\n",
    "#     all_nearby_points_x = set()\n",
    "#     for l in lines:\n",
    "\n",
    "#         # generate a set to contain all beaconless points\n",
    "#         nearby_x = set()\n",
    "\n",
    "#         # identify sensor and beacon x-y coordinates\n",
    "#         sx, sy, bx, by = get_coords(l)\n",
    "\n",
    "\n",
    "#         # get distance between beacon and sensor\n",
    "#         dist = get_dist(l)\n",
    "\n",
    "#         # test to see if the area covered by this\n",
    "#         # sensor-beacon pair is within range of the\n",
    "#         # test line\n",
    "#         if abs(sy-test_row) <= dist:\n",
    "#             for x in range(max_index+1):\n",
    "#                 if abs(sx - x) <= dist:\n",
    "\n",
    "#                     # # for each x value, caluclate min and max y values\n",
    "#                     # for x in range(sx-dist, sx+dist+1):\n",
    "#                     #     x_dist = abs(x-sx)\n",
    "#                     #     y_dist = dist - x_dist\n",
    "#                     #     y_min = sy - y_dist\n",
    "#                     #     y_max = sy + y_dist\n",
    "\n",
    "#                     #     # add all points between min and max x-y coords to the set\n",
    "#                     #     points_list = [(x,y) for y in range(y_min, y_max+1)]\n",
    "#                     #     nearby.update(points_list)\n",
    "\n",
    "#                     y_dist = abs(sy - test_row)\n",
    "#                     x_dist = dist - y_dist\n",
    "#                     x_min = sx - x_dist\n",
    "#                     x_max = sx + x_dist\n",
    "#                     if x in range(x_min, x_max+1):\n",
    "#                         nearby_x.add(x)\n",
    "\n",
    "#         all_nearby_points_x.update(nearby_x)\n",
    "\n",
    "\n",
    "#     # #  # check whether every X value is accounted for in the excluded points.\n",
    "#     all_x = {x for x in range(max_index+1)}\n",
    "\n",
    "#     # If there is an x value that hasn't been excluded, \n",
    "#     # that is a possible beacon location. Return it.\n",
    "#     difference = all_x - all_nearby_points_x\n",
    "\n",
    "#     if len(difference) > 0:\n",
    "#         x_beacon = list(difference)[0]\n",
    "#         return x_beacon\n",
    "\n",
    "\n",
    "\n",
    "\n",
    "# # revised version includes all sensor and beacon points,\n",
    "# # only returns X values\n",
    "# def find_beacon_x(test_row, max_index):\n",
    "    \n",
    "#     all_nearby_points_x = set()\n",
    "#     for l in lines:\n",
    "#         nearby_points_x = get_nearby_points_x(l, test_row, max_index)\n",
    "#         # filter to remove points outside the max index range\n",
    "#         # nearby_points_x = {n[0] for n in nearby_points_x if 0 <= n[1] <= max_index}\n",
    "#         all_nearby_points_x.update(nearby_points_x)\n",
    "\n",
    "#     # # eliminate points where beacons or sensors are already known to exist:\n",
    "#     # beaconless = all_nearby_points - get_beacon_points_row(test_row) - get_sensor_points_row(test_row)\n",
    "\n",
    "#     # check whether every X value is accounted for in the excluded points.\n",
    "#     all_x = {x for x in range(max_index+1)}\n",
    "        \n",
    "#     # If there is an x value that hasn't been excluded, \n",
    "#     # that is a possible beacon location. Return it.\n",
    "#     difference = all_x - all_nearby_points_x\n",
    "\n",
    "#     if len(difference) > 0:\n",
    "#         x_beacon = list(difference)[0]\n",
    "#         return x_beacon\n",
    "\n",
    "\n",
    "\n",
    "\n",
    "# # Exclude all points that are either already occupied OR known to be empty\n",
    "# # (anything within a sensor-beacon range).  Only consider the ones that fall\n",
    "# # within the specified maximum index for the X or Y value.\n",
    "# def count_excluded_points_row(test_row, max_index):\n",
    "    \n",
    "#     excluded_x = set()\n",
    "#     for l in lines:\n",
    "#         # all_nearby = list(get_nearby_points(l, test_row))\n",
    "#         excluded_x.update(get_all_x_near_incl_sb(test_row, max_index))\n",
    "\n",
    "\n",
    "#     # check whether every X value is accounted for in the excluded points.\n",
    "#     all_x = {x for x in range(max_index+1)}\n",
    "        \n",
    "#     # If there is an x value that hasn't been excluded, \n",
    "#     # that is a possible beacon location. Return it.\n",
    "#     difference = all_x - excluded_x\n",
    "\n",
    "#     if len(difference) > 0:\n",
    "#         x_beacon = list(difference)[0]\n",
    "#         return x_beacon\n",
    "\n",
    "\n",
    "\n",
    "\n"
   ]
  },
  {
   "cell_type": "code",
   "execution_count": 55,
   "metadata": {},
   "outputs": [],
   "source": [
    "# # test each row and find the x-y coordinate of the potential beacon spot.\n",
    "# # Return the tuning frequency of that point.\n",
    "\n",
    "# def find_beacon_tf(max_index):\n",
    "#     for y in range(max_index+1):\n",
    "#         x = find_beacon_x(y, max_index)\n",
    "#         if x != None:\n",
    "            \n",
    "#             # calculate tuning frequency\n",
    "#             tf = x * 4000000 + y\n",
    "\n",
    "#             return tf\n",
    "\n",
    "# find_beacon_tf(4000000)\n",
    "# # find_beacon_tf(20)\n"
   ]
  },
  {
   "cell_type": "code",
   "execution_count": 56,
   "metadata": {},
   "outputs": [],
   "source": [
    "# Part 2 New Strategy:\n",
    "\n",
    "# based on hints from others:  check all points around every sensor instad of iterating \n",
    "# through rows.\n",
    "\n",
    "\n",
    "#same as part 1\n",
    "with open('test_input.txt') as f:\n",
    "    data = f.read()\n",
    "    lines = data.split('\\n')\n",
    "    lines = list(filter(None, lines))\n"
   ]
  },
  {
   "cell_type": "code",
   "execution_count": 57,
   "metadata": {},
   "outputs": [
    {
     "data": {
      "text/plain": [
       "(12, 14, 4)"
      ]
     },
     "execution_count": 57,
     "metadata": {},
     "output_type": "execute_result"
    }
   ],
   "source": [
    "def get_sensor_info(line):\n",
    "    \"\"\"get sensor coordinates and range range (distance from\n",
    "    sensor to beacon):  (sx, sy, range)\"\"\"\n",
    "    re_sensors_beacons = re.compile(r'(\\-*\\d+)')\n",
    "    xy_nums = list(re_sensors_beacons.findall(line))\n",
    "    for i, num in enumerate(xy_nums):\n",
    "        xy_nums[i] = int(num)\n",
    "    sx = xy_nums[0]\n",
    "    sy = xy_nums[1]\n",
    "    bx = xy_nums[2]\n",
    "    by = xy_nums[3]\n",
    "    s_point = (sx, sy)\n",
    "    s_range = abs(sx-bx) + abs(sy-by)\n",
    "    # s_zero_dist = abs(sx) + abs(sy)\n",
    "\n",
    "    return(sx, sy, s_range)\n",
    "\n",
    "get_sensor_info(lines[3])"
   ]
  },
  {
   "cell_type": "code",
   "execution_count": 61,
   "metadata": {},
   "outputs": [
    {
     "name": "stdout",
     "output_type": "stream",
     "text": [
      "None\n"
     ]
    }
   ],
   "source": [
    "\n",
    "# find min/max x value for each row's checked range using each sensor.\n",
    "# sort the ranges by x value so you can review them for overlaps / adjacency in order.\n",
    "# if max (range) >= min (next_range)+1:\n",
    "#       gap exists. Beacon found.\n",
    "\n",
    "\n",
    "sensors = []\n",
    "for l in lines:\n",
    "    sensors.append(get_sensor_distance(l))\n",
    "\n",
    "def get_sensor_range_for_row(sensor, row):\n",
    "\n",
    "    sx = sensor[0]\n",
    "    sy = sensor[1]\n",
    "    s_range = sensor[2]\n",
    "\n",
    "    if abs(sy-row) <= s_range:\n",
    "\n",
    "        y_dist = abs(sy-row)\n",
    "        x_dist = s_range - y_dist\n",
    "\n",
    "        x_min = sx - x_dist\n",
    "        x_max = sx + x_dist\n",
    "\n",
    "        r_range = (x_min, x_max)\n",
    "        return r_range\n",
    "        \n",
    "\n",
    "print(get_sensor_range_for_row(sensors[4],6))"
   ]
  },
  {
   "cell_type": "code",
   "execution_count": 65,
   "metadata": {},
   "outputs": [
    {
     "data": {
      "text/plain": [
       "[(-3, 3), (2, 2), (3, 13), (11, 13), (15, 17), (15, 25)]"
      ]
     },
     "execution_count": 65,
     "metadata": {},
     "output_type": "execute_result"
    }
   ],
   "source": [
    "def get_all_ranges_for_row(row):\n",
    "    row_ranges = []\n",
    "    for s in sensors:\n",
    "        s_r_range = get_sensor_range_for_row(s,row)\n",
    "        row_ranges.append(s_r_range)\n",
    "        row_ranges = [r for r in row_ranges if r != None]\n",
    "        row_ranges.sort()\n",
    "    \n",
    "    return row_ranges\n",
    "    \n",
    "test_ranges = get_all_ranges_for_row(11)\n",
    "test_ranges"
   ]
  },
  {
   "cell_type": "code",
   "execution_count": 77,
   "metadata": {},
   "outputs": [
    {
     "data": {
      "text/plain": [
       "14"
      ]
     },
     "execution_count": 77,
     "metadata": {},
     "output_type": "execute_result"
    }
   ],
   "source": [
    "def find_gaps_in_ranges(sorted_row_ranges):\n",
    "\n",
    "    x_min = None\n",
    "    x_max = None\n",
    "    for r in sorted_row_ranges:\n",
    "        # print(f'\\n{r}')\n",
    "        r_min = r[0]\n",
    "        r_max = r[1]\n",
    "        if x_min == None:\n",
    "            x_min = r_min\n",
    "            # print(f'first if: X_min was none, now it is {x_min}')\n",
    "        if x_max == None:\n",
    "            x_max = r_max\n",
    "            # print(f'first if: X_max was none, now it is {x_max}')\n",
    "\n",
    "\n",
    "        # if ranges don't overlap:\n",
    "        # min is higher than previous max +1\n",
    "        if r_min > x_max+1:\n",
    "            # print(f'second if: r_min is {r_min}')\n",
    "            # print(f'second if: x_max is {x_max}')\n",
    "            x_gap = x_max+1\n",
    "            return x_gap\n",
    "            \n",
    "        else:\n",
    "            x_max = r_max\n",
    "        \n",
    "        \n",
    "find_gaps_in_ranges(test_ranges)"
   ]
  },
  {
   "cell_type": "code",
   "execution_count": 78,
   "metadata": {},
   "outputs": [
    {
     "data": {
      "text/plain": [
       "(12, 14, 4)"
      ]
     },
     "execution_count": 78,
     "metadata": {},
     "output_type": "execute_result"
    }
   ],
   "source": []
  },
  {
   "cell_type": "code",
   "execution_count": null,
   "metadata": {},
   "outputs": [],
   "source": []
  }
 ],
 "metadata": {
  "kernelspec": {
   "display_name": "Python 3",
   "language": "python",
   "name": "python3"
  },
  "language_info": {
   "codemirror_mode": {
    "name": "ipython",
    "version": 3
   },
   "file_extension": ".py",
   "mimetype": "text/x-python",
   "name": "python",
   "nbconvert_exporter": "python",
   "pygments_lexer": "ipython3",
   "version": "3.10.8"
  },
  "orig_nbformat": 4,
  "vscode": {
   "interpreter": {
    "hash": "b0fa6594d8f4cbf19f97940f81e996739fb7646882a419484c72d19e05852a7e"
   }
  }
 },
 "nbformat": 4,
 "nbformat_minor": 2
}
