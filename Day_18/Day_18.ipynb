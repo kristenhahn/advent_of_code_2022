{
 "cells": [
  {
   "cell_type": "code",
   "execution_count": 1,
   "metadata": {},
   "outputs": [],
   "source": [
    "# Advent of code\n",
    "# Day 18\n",
    "\n",
    "with open('input.txt') as f:\n",
    "    data = f.read()\n",
    "\n",
    "data = data.split('\\n')\n",
    "data = list(filter(None, data))\n",
    "for i, d in enumerate(data):\n",
    "    data[i] = d.split(',')\n",
    "    data[i] = [int(x) for x in data[i]]\n",
    "    "
   ]
  },
  {
   "cell_type": "code",
   "execution_count": 2,
   "metadata": {},
   "outputs": [],
   "source": [
    "# get unconnected sides for a single cube\n",
    "def get_unconnected_sides(i):\n",
    "    # neighbors in the x direction:  y and Z are the same, X is off by 1\n",
    "    x_neighbors = [n for n in data if abs(i[0]-n[0]) == 1 and i[1]==n[1] and i[2]==n[2]]\n",
    "    y_neighbors = [n for n in data if abs(i[1]-n[1]) == 1 and i[0]==n[0] and i[2]==n[2]]\n",
    "    z_neighbors = [n for n in data if abs(i[2]-n[2]) == 1 and i[0]==n[0] and i[1]==n[1]]\n",
    "    all_neighbors = x_neighbors + y_neighbors + z_neighbors\n",
    "\n",
    "    unconnected_sides = 6-len(all_neighbors)\n",
    "    return unconnected_sides\n"
   ]
  },
  {
   "cell_type": "code",
   "execution_count": 3,
   "metadata": {},
   "outputs": [
    {
     "name": "stdout",
     "output_type": "stream",
     "text": [
      "4314\n"
     ]
    }
   ],
   "source": [
    "# total unconnected sides for all cubes\n",
    "total_unconnected_sides = 0\n",
    "\n",
    "for i in data:\n",
    "    total_unconnected_sides += get_unconnected_sides(i)\n",
    "\n",
    "print(total_unconnected_sides)\n",
    "\n",
    "\n"
   ]
  },
  {
   "cell_type": "code",
   "execution_count": 4,
   "metadata": {},
   "outputs": [
    {
     "data": {
      "text/plain": [
       "[[12, 13, 19], [13, 5, 4], [11, 8, 1], [8, 6, 3], [19, 9, 12]]"
      ]
     },
     "execution_count": 4,
     "metadata": {},
     "output_type": "execute_result"
    }
   ],
   "source": [
    "data[:5]"
   ]
  },
  {
   "cell_type": "code",
   "execution_count": 5,
   "metadata": {},
   "outputs": [],
   "source": [
    "# Part 2: Determine the outside surface area only,\n",
    "# not including any interior air pockets in the lava\n",
    "\n",
    "# Set up boundaries for a 3d area around\n",
    "# the lava, with a bufer on all sides\n",
    "min_x = min(p[0] for p in data)-2\n",
    "max_x = max(p[0] for p in data)+2\n",
    "\n",
    "min_y = min(p[1] for p in data)-2\n",
    "max_y = max(p[1] for p in data)+2\n",
    "\n",
    "min_z = min(p[2] for p in data)-2\n",
    "max_z = max(p[2] for p in data)+2\n"
   ]
  },
  {
   "cell_type": "code",
   "execution_count": 6,
   "metadata": {},
   "outputs": [],
   "source": [
    "# build a matrix containing the entire lava blob\n",
    "matrix = {}\n",
    "\n",
    "for x in range(min_x, max_x+1):\n",
    "    for y in range(min_y, max_y+1):\n",
    "        for z in range(min_z, max_z+1):\n",
    "            matrix[(x,y,z)]=''\n",
    "\n"
   ]
  },
  {
   "cell_type": "code",
   "execution_count": 7,
   "metadata": {},
   "outputs": [],
   "source": [
    "\n",
    "# identify the lava points in the matrix (not\n",
    "# interior air pockets or areas outside the lava)\n",
    "for x,y,z in data:\n",
    "    matrix[(x,y,z)]='lava'\n"
   ]
  },
  {
   "cell_type": "code",
   "execution_count": 8,
   "metadata": {},
   "outputs": [
    {
     "name": "stdout",
     "output_type": "stream",
     "text": [
      "34538 checked locations\n",
      "0 unchecked locations\n"
     ]
    }
   ],
   "source": [
    "# Flood the area outside the lava block and identify\n",
    "# those points. All points left unidentified  after this step \n",
    "# are voids inside the lava.\n",
    "\n",
    "def flood_matrix(x,y,z):\n",
    "    to_check = [(x,y,z)]\n",
    "    checked = []\n",
    "    def flood(x,y,z):\n",
    "        while len(to_check) > 0:\n",
    "            (x,y,z) = to_check.pop()\n",
    "            if matrix[(x,y,z)] == 'lava':\n",
    "                checked.append((x,y,z))\n",
    "            elif matrix[(x,y,z)] != '':\n",
    "                checked.append((x,y,z))\n",
    "            else:\n",
    "                matrix[(x,y,z)] = 'outside'\n",
    "                neighbors = [\n",
    "                    (x-1, y, z),(x+1, y, z),\n",
    "                    (x, y-1, z), (x, y+1, z),\n",
    "                    (x, y, z-1), (x, y, z+1)]\n",
    "\n",
    "                for n in neighbors:\n",
    "                    if (n[0],n[1],n[2]) in list(matrix.keys()) and ((n[0],n[1],n[2]) not in checked):\n",
    "                        # print('neighbor found')\n",
    "                        to_check.append(n)\n",
    "                checked.append((x,y,z))\n",
    "    flood(x,y,z)\n",
    "    print(f'{len(checked)} checked locations')\n",
    "    print(f'{len(to_check)} unchecked locations')\n",
    "\n",
    "# fill starting with a point outside the solid area\n",
    "flood_matrix(-1,-2,-2)\n"
   ]
  },
  {
   "cell_type": "code",
   "execution_count": 17,
   "metadata": {},
   "outputs": [
    {
     "name": "stdout",
     "output_type": "stream",
     "text": [
      "1447\n",
      "16224\n",
      "2444\n"
     ]
    }
   ],
   "source": [
    "# for interior void points, find the sides NOT connected to solid cubes, if any.\n",
    "# Those would be connected to other interior void points, so they did not appear\n",
    "# as surface squares in Part 1. They will not need to be subtracted\n",
    "# from the total when removing interior surfaces. \n",
    "\n",
    "# interior void points are those not identified as lava or outside\n",
    "interior_points = [p for p in matrix if matrix[p]=='']\n",
    "print(len(interior_points))\n",
    "print(len(matrix))\n",
    "\n",
    "unconnected_sides_interior = 0\n",
    "for p in interior_points:\n",
    "    unconnected_sides_interior += get_unconnected_sides(p)\n",
    "\n",
    "total_interior_surface = (len(interior_points) * 6) - unconnected_sides_interior\n",
    "\n",
    "total_outside_surface = total_unconnected_sides - total_interior_surface\n",
    "\n",
    "print(total_outside_surface)"
   ]
  }
 ],
 "metadata": {
  "kernelspec": {
   "display_name": "Python 3",
   "language": "python",
   "name": "python3"
  },
  "language_info": {
   "codemirror_mode": {
    "name": "ipython",
    "version": 3
   },
   "file_extension": ".py",
   "mimetype": "text/x-python",
   "name": "python",
   "nbconvert_exporter": "python",
   "pygments_lexer": "ipython3",
   "version": "3.10.8"
  },
  "orig_nbformat": 4,
  "vscode": {
   "interpreter": {
    "hash": "b0fa6594d8f4cbf19f97940f81e996739fb7646882a419484c72d19e05852a7e"
   }
  }
 },
 "nbformat": 4,
 "nbformat_minor": 2
}
