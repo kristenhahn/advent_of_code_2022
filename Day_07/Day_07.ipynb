{
 "cells": [
  {
   "cell_type": "code",
   "execution_count": 143,
   "metadata": {},
   "outputs": [],
   "source": [
    "# Advent of Code 2022\n",
    "# https://adventofcode.com/2022/day/7"
   ]
  },
  {
   "cell_type": "code",
   "execution_count": 144,
   "metadata": {},
   "outputs": [],
   "source": [
    "with open(\"input.txt\") as f:\n",
    "    input = f.read()\n",
    "\n",
    "    lines = input.split('\\n')\n",
    "    # remove blank lines\n",
    "    lines = list(filter(None, lines))\n",
    "\n",
    "\n"
   ]
  },
  {
   "cell_type": "code",
   "execution_count": 145,
   "metadata": {},
   "outputs": [],
   "source": [
    "##########\n",
    "# Directory Tree Structure: Dictionary with links to parent and child items\n",
    "##########\n",
    " \n",
    "# Directory tree is a dictionary of dictionaries.  \n",
    "# Each item in the dictionary is either a file or a directory.\n",
    "# Format for each item is as follows:\n",
    "# {<id>:{\n",
    "#   'item_id':<id>, \n",
    "#   'item':<'dir or 'file'>, \n",
    "#   'parent_id':<id of the parent directory>,\n",
    "#   'name':<name of the file or directory>,\n",
    "#   'contents':[<list of ids for the contents of this directory if the item is a directory>],\n",
    "#   'size':<file size if the item is a file>,\n",
    "#   'depth': <how many levels down from the root is this item?>}\n",
    "# }\n",
    "\n",
    "# This structure lets you trace any item in the tree to its parent directory and its contents.\n"
   ]
  },
  {
   "cell_type": "code",
   "execution_count": 146,
   "metadata": {},
   "outputs": [],
   "source": [
    "##########\n",
    "# Functions to interact with the tree\n",
    "##########"
   ]
  },
  {
   "cell_type": "code",
   "execution_count": 147,
   "metadata": {},
   "outputs": [],
   "source": [
    "# set up a new tree. Clears previous tree if there was one.\n",
    "def reset_tree():\n",
    "    \n",
    "    global tree\n",
    "    global wd\n",
    "    global next_id\n",
    "\n",
    "    tree = {}\n",
    "\n",
    "    '''set up the tree with a root directory,\n",
    "    # id = 1, parent directory id = 0 (0 is an arbitrary id since the root \n",
    "    # directory has no actual parent directory.)'''\n",
    "    tree = {0:{\n",
    "        'item_id':0, \n",
    "        'item':'dir', \n",
    "        'parent_id':0, \n",
    "        'name':'root', \n",
    "        'contents':[], \n",
    "        'size':0, \n",
    "        'depth':0},\n",
    "        1:{\n",
    "        'item_id':1, \n",
    "        'item':'dir', \n",
    "        'parent_id':0, \n",
    "        'name':'root', \n",
    "        'contents':[], \n",
    "        'size':0, \n",
    "        'depth':0}}\n",
    "\n",
    "    # set root as the default working directory to start with\n",
    "    wd = tree[1]\n",
    "\n",
    "    # set next available ID to assign \n",
    "    next_id = 2\n"
   ]
  },
  {
   "cell_type": "code",
   "execution_count": 148,
   "metadata": {},
   "outputs": [],
   "source": [
    "# list the names of all items contained in a directory\n",
    "def contents_names(directory):\n",
    "    names = []\n",
    "    for c in directory['contents']:\n",
    "        names.append(tree[c]['name'])\n",
    "    return names\n"
   ]
  },
  {
   "cell_type": "code",
   "execution_count": 149,
   "metadata": {},
   "outputs": [],
   "source": [
    "def create_subdirectory(subdir_name):\n",
    "    global next_id\n",
    "    global wd\n",
    "    tree[next_id]={\n",
    "        'item_id':next_id, \n",
    "        'item':'dir', \n",
    "        'parent_id':wd['item_id'], \n",
    "        'name':subdir_name, \n",
    "        'contents':[], \n",
    "        'size':0, \n",
    "        'depth':wd['depth']+1}\n",
    "    # add subdirectory to list of items in working directory\n",
    "    wd['contents'].append(next_id)\n",
    "    # update next available id since this one is taken now\n",
    "    next_id += 1\n"
   ]
  },
  {
   "cell_type": "code",
   "execution_count": 150,
   "metadata": {},
   "outputs": [],
   "source": [
    "def create_file(file_name, size):\n",
    "    global next_id\n",
    "    global wd\n",
    "    tree[next_id]={\n",
    "        'item_id':next_id, \n",
    "        'item':'file', \n",
    "        'parent_id':wd['item_id'], \n",
    "        'name':file_name, \n",
    "        'contents':[], \n",
    "        'size':size, \n",
    "        'depth':wd['depth']+1}\n",
    "    # add file to list of items in working directory\n",
    "    wd['contents'].append(next_id)\n",
    "    next_id +=1\n",
    "    "
   ]
  },
  {
   "cell_type": "code",
   "execution_count": 151,
   "metadata": {},
   "outputs": [],
   "source": [
    "def move_to_subdirectory(subdir_name):\n",
    "    global wd\n",
    "    for c in wd['contents']:\n",
    "        if tree[c]['name'] == subdir_name:\n",
    "            wd = tree[c]\n",
    "            "
   ]
  },
  {
   "cell_type": "code",
   "execution_count": 152,
   "metadata": {},
   "outputs": [],
   "source": [
    "def move_to_parent():\n",
    "    global wd\n",
    "    parent_id = wd['parent_id']\n",
    "    parent_dir = tree[parent_id]\n",
    "    wd = parent_dir\n",
    "    "
   ]
  },
  {
   "cell_type": "code",
   "execution_count": 153,
   "metadata": {},
   "outputs": [],
   "source": [
    "def cd(l):\n",
    "    ''' reads in an instruction line (l) and executes CD instructions: \n",
    "    either moves to the specified directory or creates it if it doesn't\n",
    "    exist yet and then moves to it.'''\n",
    "\n",
    "    global wd\n",
    "    global next_id\n",
    "\n",
    "    subdir_name = l[5:]\n",
    "    \n",
    "    # cd \\  -- go to root directory\n",
    "    if subdir_name == '\\\\':\n",
    "        \n",
    "        # working directory = root directory\n",
    "        wd = tree[1]\n",
    "\n",
    "    # cd ..  -- move up one directory level\n",
    "    elif subdir_name == '..':\n",
    "        # change working directory to parent directory\n",
    "        move_to_parent()\n",
    "    \n",
    "    # cd <directry name>  -- move down one level to specified subdirectory\n",
    "    else:             \n",
    "       \n",
    "        # if subdirectory already exists\n",
    "        if subdir_name in contents_names(wd):\n",
    "            move_to_subdirectory(subdir_name)\n",
    "                \n",
    "        # if subdirectory doesn't exist:\n",
    "        else:\n",
    "            create_subdirectory(subdir_name)\n",
    "            move_to_subdirectory(subdir_name)\n"
   ]
  },
  {
   "cell_type": "code",
   "execution_count": 155,
   "metadata": {},
   "outputs": [],
   "source": [
    "##########\n",
    "# Acting on LS lines\n",
    "##########\n",
    "\n",
    "# no action needed. LS just indicates the lines that follow\n",
    "# will require action (adding them to the tree if they don't)\n",
    "# already exist."
   ]
  },
  {
   "cell_type": "code",
   "execution_count": 156,
   "metadata": {},
   "outputs": [],
   "source": [
    "# Acting on listed directories\n",
    "\n",
    "def ls_dir(l):\n",
    "    '''Reads in an instruction line (l) and treats it\n",
    "    as a directory listed under an $ ls command. Creates \n",
    "    the directory if it doesn't exist yet. Does not move\n",
    "    to the subdirectory.'''\n",
    "\n",
    "    global wd\n",
    "    global next_id   \n",
    "            \n",
    "    subdir_name = l[4:]\n",
    "\n",
    "    # if subdirectory doesn't exist:\n",
    "    if subdir_name not in contents_names(wd):\n",
    "        create_subdirectory(subdir_name)\n",
    "     "
   ]
  },
  {
   "cell_type": "code",
   "execution_count": 157,
   "metadata": {},
   "outputs": [],
   "source": [
    "# Acting on listed directories\n",
    "\n",
    "def ls_file(l):\n",
    "    '''Reads in an instruction line (l) and treats it\n",
    "    as a file listed under an $ ls command. Creates \n",
    "    the file if it doesn't exist yet.'''\n",
    "\n",
    "    global wd\n",
    "    global next_id \n",
    "\n",
    "    size, file_name = l.split(' ')\n",
    "    size = int(size)\n",
    "\n",
    "    # if file doesn't exist:\n",
    "    if file_name not in contents_names(wd):\n",
    "        create_file(file_name, size)\n"
   ]
  },
  {
   "cell_type": "code",
   "execution_count": 158,
   "metadata": {},
   "outputs": [],
   "source": [
    "def read_tree(lines):\n",
    "    '''Reads each line and builds the tree accordingly'''\n",
    "    global wd\n",
    "    global next_id\n",
    "    \n",
    "    for l in lines:\n",
    "\n",
    "        if l[:5] == r'$ cd ':\n",
    "            cd(l)\n",
    "\n",
    "        elif l == r'$ ls':\n",
    "            pass\n",
    "            \n",
    "        elif l[:4] == r'dir ':\n",
    "            ls_dir(l)\n",
    "\n",
    "        else:\n",
    "            ls_file(l)"
   ]
  },
  {
   "cell_type": "code",
   "execution_count": 159,
   "metadata": {},
   "outputs": [],
   "source": [
    "# Add the size of an item to its parent directory's total size\n",
    "def add_size_to_parent(i):\n",
    "    parent_id = tree[i]['parent_id']\n",
    "    tree[parent_id]['size'] += tree[i]['size']\n",
    "\n"
   ]
  },
  {
   "cell_type": "code",
   "execution_count": 160,
   "metadata": {},
   "outputs": [],
   "source": [
    "##########\n",
    "# Create a full tree with file and directory sizes\n",
    "# from the input lines\n",
    "##########\n",
    "\n",
    "reset_tree()\n",
    "\n",
    "read_tree(lines)\n",
    "\n",
    "# maximum depth in the tree\n",
    "max_depth = max([tree[i]['depth'] for i in tree])\n",
    "\n",
    "# list tree depths from highest to lowest\n",
    "depth_list = [i for i in range(max_depth, 0,-1)]\n",
    "\n",
    "# loop through items in the tree starting \n",
    "# at the bottom (highest depth number).\n",
    "# Add the size of every item to its parent\n",
    "# directory size.\n",
    "\n",
    "for d in depth_list:\n",
    "    for i in tree:\n",
    "        if tree[i]['depth'] == d:\n",
    "            add_size_to_parent(i)\n",
    "\n"
   ]
  },
  {
   "cell_type": "code",
   "execution_count": 161,
   "metadata": {},
   "outputs": [
    {
     "name": "stdout",
     "output_type": "stream",
     "text": [
      "1141028\n"
     ]
    }
   ],
   "source": [
    "#########\n",
    "# Find all of the directories with a total size of at most 100000\n",
    "# and sum them up\n",
    "##########\n",
    "\n",
    "answer = 0\n",
    "\n",
    "for i in tree:\n",
    "    if tree[i]['item'] == 'dir':\n",
    "        if tree[i]['size'] <= 100000:\n",
    "            answer += tree[i]['size']\n",
    "\n",
    "print(answer)\n"
   ]
  }
 ],
 "metadata": {
  "kernelspec": {
   "display_name": "Python 3.10.8 64-bit",
   "language": "python",
   "name": "python3"
  },
  "language_info": {
   "codemirror_mode": {
    "name": "ipython",
    "version": 3
   },
   "file_extension": ".py",
   "mimetype": "text/x-python",
   "name": "python",
   "nbconvert_exporter": "python",
   "pygments_lexer": "ipython3",
   "version": "3.10.8"
  },
  "orig_nbformat": 4,
  "vscode": {
   "interpreter": {
    "hash": "b0fa6594d8f4cbf19f97940f81e996739fb7646882a419484c72d19e05852a7e"
   }
  }
 },
 "nbformat": 4,
 "nbformat_minor": 2
}
