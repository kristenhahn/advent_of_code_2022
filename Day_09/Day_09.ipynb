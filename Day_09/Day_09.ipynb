{
 "cells": [
  {
   "cell_type": "code",
   "execution_count": 16,
   "metadata": {},
   "outputs": [],
   "source": [
    "# Advent of Code 2022\n",
    "# Day 9, Part 1\n",
    "# https://adventofcode.com/2022/day/9\n",
    "\n",
    "\n",
    "# read instructions\n",
    "with open('ropes.txt') as f:\n",
    "    lines = f.read()\n",
    "\n",
    "# split into lines\n",
    "instructions = lines.split('\\n')\n",
    "\n",
    "# remove blank lines\n",
    "instructions = list(filter(None, instructions))\n",
    "\n",
    "# split each instruction into a list [<direction>, <number of moves>]\n",
    "instructions = [i.split(' ') for i in instructions]"
   ]
  },
  {
   "cell_type": "code",
   "execution_count": null,
   "metadata": {},
   "outputs": [],
   "source": [
    "# Using an x-y coordinate system, set starting coordinates \n",
    "# for the head and tail at point (0,0)\n",
    "\n",
    "h = [0,0]\n",
    "t = [0,0]\n",
    "\n",
    "# possible tail moves\n",
    "\n",
    "def right(t):\n",
    "    # move tail 1 space right\n",
    "    t[0] += 1\n",
    "\n",
    "def left(t):\n",
    "    # move tail 1 space left\n",
    "    t[0] -= 1\n",
    "\n",
    "def up(t):\n",
    "    # move tail one space up\n",
    "    t[1] += 1\n",
    "\n",
    "def down(t):\n",
    "    # move tail one space down\n",
    "    t[1] -= 1\n",
    "\n",
    "def up_right(t):\n",
    "    # move one diagonal up-right\n",
    "    t[1] += 1\n",
    "    t[0] += 1\n",
    "\n",
    "def up_left(t):\n",
    "    # move one diagonal up-left\n",
    "    t[1] += 1\n",
    "    t[0] -= 1\n",
    "\n",
    "def down_right(t):\n",
    "    t[1] -= 1\n",
    "    t[0] += 1\n",
    "\n",
    "def down_left(t):\n",
    "    t[1] -= 1\n",
    "    t[0] -= 1\n",
    "\n"
   ]
  }
 ],
 "metadata": {
  "kernelspec": {
   "display_name": "Python 3.10.8 64-bit",
   "language": "python",
   "name": "python3"
  },
  "language_info": {
   "codemirror_mode": {
    "name": "ipython",
    "version": 3
   },
   "file_extension": ".py",
   "mimetype": "text/x-python",
   "name": "python",
   "nbconvert_exporter": "python",
   "pygments_lexer": "ipython3",
   "version": "3.10.8"
  },
  "orig_nbformat": 4,
  "vscode": {
   "interpreter": {
    "hash": "b0fa6594d8f4cbf19f97940f81e996739fb7646882a419484c72d19e05852a7e"
   }
  }
 },
 "nbformat": 4,
 "nbformat_minor": 2
}
