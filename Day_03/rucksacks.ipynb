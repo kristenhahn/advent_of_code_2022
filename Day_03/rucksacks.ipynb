{
 "cells": [
  {
   "cell_type": "markdown",
   "metadata": {},
   "source": [
    "# Advent of Code 2022\n",
    "### Day 3 Part 1\n",
    "https://adventofcode.com/2022/day/3"
   ]
  },
  {
   "cell_type": "code",
   "execution_count": 62,
   "metadata": {},
   "outputs": [],
   "source": [
    "# Open the file containing the strategy guide\n",
    "with open('rucksacks.txt', 'r') as f:\n",
    "    lines = f.readlines()\n",
    "    lines = [l.replace('\\n', '') for l in lines]\n"
   ]
  },
  {
   "cell_type": "code",
   "execution_count": 63,
   "metadata": {},
   "outputs": [],
   "source": [
    "rucksacks = lines.copy()\n"
   ]
  },
  {
   "cell_type": "code",
   "execution_count": 64,
   "metadata": {},
   "outputs": [],
   "source": [
    "# Find the common item found in both halves of a rucksack\n",
    "def find_common_letter(rucksack):\n",
    "    \n",
    "    # compartment holds 1/2 of the letters (items) in the rucksack.\n",
    "    compartment_quantity = int(len(rucksack)/2)\n",
    "\n",
    "    # split the compartments\n",
    "    c1 = rucksack[:compartment_quantity]\n",
    "    c2 = rucksack[compartment_quantity:]\n",
    "\n",
    "    # identify the item found in both compartments\n",
    "    common_letter_set = set(c1).intersection(c2)\n",
    "\n",
    "    common_letter = list(common_letter_set)[0]\n",
    "\n",
    "    return common_letter\n",
    "\n"
   ]
  },
  {
   "cell_type": "code",
   "execution_count": 65,
   "metadata": {},
   "outputs": [],
   "source": [
    "#Create a dictionary for letter priority\n",
    "\n",
    "# a-z character codes are 97-122   \n",
    "# a-z Priority 1-26\n",
    "\n",
    "# A-Z haracter codes are 65-90  \n",
    "# A-Z Priority 27-52\n",
    "\n",
    "# Add letters to a list in ascending priority order (a to z, then A to Z)\n",
    "letters = []\n",
    "\n",
    "#lowercase letters\n",
    "for c in range(97,123):\n",
    "    letters.append(chr(c))\n",
    "\n",
    "#upperrcase letters\n",
    "for c in range(65,91):\n",
    "    letters.append(chr(c))\n",
    "\n",
    "# turn the letter list into a priority dictionary\n",
    "priority_dict = {}\n",
    "for v, k in enumerate(letters):\n",
    "    priority_dict[k] = v+1\n"
   ]
  },
  {
   "cell_type": "code",
   "execution_count": 66,
   "metadata": {},
   "outputs": [],
   "source": [
    "# Create a list of priorities for the common item found in both sides of each rucksack\n",
    "priority_list = []\n",
    "\n",
    "for r in rucksacks:\n",
    "    letter = find_common_letter(r)\n",
    "    priority = priority_dict[letter]\n",
    "    priority_list.append(priority)"
   ]
  },
  {
   "cell_type": "code",
   "execution_count": 67,
   "metadata": {},
   "outputs": [
    {
     "name": "stdout",
     "output_type": "stream",
     "text": [
      "The sum of priorities for the items that showed up in both sides of each ruucksack is 7597\n"
     ]
    }
   ],
   "source": [
    "# Now just add them all up!\n",
    "total = sum(priority_list)\n",
    "print(f\"The sum of priorities for the items that showed up in both sides of each ruucksack is {total}\")"
   ]
  },
  {
   "cell_type": "markdown",
   "metadata": {},
   "source": []
  },
  {
   "cell_type": "markdown",
   "metadata": {},
   "source": [
    "### Part 2\n",
    "https://adventofcode.com/2022/day/3#part2"
   ]
  },
  {
   "cell_type": "code",
   "execution_count": null,
   "metadata": {},
   "outputs": [],
   "source": []
  }
 ],
 "metadata": {
  "kernelspec": {
   "display_name": "Python 3.10.8 64-bit",
   "language": "python",
   "name": "python3"
  },
  "language_info": {
   "codemirror_mode": {
    "name": "ipython",
    "version": 3
   },
   "file_extension": ".py",
   "mimetype": "text/x-python",
   "name": "python",
   "nbconvert_exporter": "python",
   "pygments_lexer": "ipython3",
   "version": "3.10.8"
  },
  "orig_nbformat": 4,
  "vscode": {
   "interpreter": {
    "hash": "b0fa6594d8f4cbf19f97940f81e996739fb7646882a419484c72d19e05852a7e"
   }
  }
 },
 "nbformat": 4,
 "nbformat_minor": 2
}
