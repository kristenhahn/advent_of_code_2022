{
 "cells": [
  {
   "cell_type": "markdown",
   "metadata": {},
   "source": [
    "## Advent of Code 2022\n",
    "### Day 4 Part 1\n",
    "https://adventofcode.com/2022/day/4"
   ]
  },
  {
   "cell_type": "code",
   "execution_count": 6,
   "metadata": {},
   "outputs": [
    {
     "data": {
      "text/plain": [
       "657"
      ]
     },
     "execution_count": 6,
     "metadata": {},
     "output_type": "execute_result"
    }
   ],
   "source": [
    "import pandas as pd\n",
    "\n",
    "# open the input ddata\n",
    "with open('camp_area_ranges.txt') as f:\n",
    "    data = f.read()\n",
    "\n",
    "# split text into lines\n",
    "lines = data.split('\\n')\n",
    "\n",
    "# create a dataframe to analyze the camp area anges\n",
    "df = pd.DataFrame(camp_ranges, columns=['original'])\n",
    "\n",
    "# split the original column at the \",\" character into separate columns\n",
    "# for each elf's range\n",
    "df[['range1', 'range2']] = df['original'].str.split(',', expand=True)\n",
    "\n",
    "# split each range at the '-' character into lower and upper limiits\n",
    "df[['range1_lower', 'range1_upper']] = df['range1'].str.split('-', expand=True)\n",
    "df[['range2_lower', 'range2_upper']] = df['range2'].str.split('-', expand=True)\n",
    "\n",
    "# convert columns to integers!\n",
    "df = df.astype({'range1_lower':'int', 'range1_upper':'int', 'range2_lower':'int', 'range2_upper':'int'})\n",
    "\n",
    "# conditions for a full overlap if range 1 contains range 2:\n",
    "# range1_lower <= range2_lower AND range1_upper >= range2_upper\n",
    "\n",
    "filter_1contains2 = (df['range1_lower']<=df['range2_lower']) & (df['range1_upper'] >= df['range2_upper'])\n",
    "\n",
    "# reverse the conditions to find out if range 2 contains range 1\n",
    "filter_2contains1 = (df['range2_lower']<=df['range1_lower']) & (df['range2_upper'] >= df['range1_upper'])\n",
    "\n",
    "# apply filters as columns in the dataframe just to view and\n",
    "# double check\n",
    "df['range1_contains_range2'] =  filter_1contains2\n",
    "df['range2_contains_range1'] = filter_2contains1\n",
    "\n",
    "# combine filters to identify lines where either range contains the other.\n",
    "# first filter OR second filter.\n",
    "df['one_range_contains_another'] = filter_1contains2 | filter_2contains1\n",
    "\n",
    "\n",
    "# looks good!  Just count the rows where one range contains another.\n",
    "df['one_range_contains_another'].sum()"
   ]
  },
  {
   "cell_type": "markdown",
   "metadata": {},
   "source": [
    "### Day 4 Part 2\n",
    "https://adventofcode.com/2022/day/4"
   ]
  },
  {
   "cell_type": "code",
   "execution_count": 7,
   "metadata": {},
   "outputs": [
    {
     "data": {
      "text/plain": [
       "938"
      ]
     },
     "execution_count": 7,
     "metadata": {},
     "output_type": "execute_result"
    }
   ],
   "source": [
    "# Same as Part 1, except for the filters:\n",
    "\n",
    "\n",
    "# conditions for any overlap if range 1 starts lower than range 2:\n",
    "# range1_lower <= range2_lower AND range1_upper >= range2_lower\n",
    "filter_overlap_range1_lower = (df['range1_lower']<=df['range2_lower']) & (df['range1_upper'] >= df['range2_lower'])\n",
    "\n",
    "# reverse the conditions to find overlap if range 2 starts lower than range 1:\n",
    "filter_overlap_range2_lower = (df['range2_lower']<=df['range1_lower']) & (df['range2_upper'] >= df['range1_lower'])\n",
    "\n",
    "# apply filters as columns in the dataframe just to view and\n",
    "# double check\n",
    "df['any_overlap_range1_lower'] = filter_overlap_range1_lower\n",
    "df['any_overlap_range2_lower'] = filter_overlap_range2_lower\n",
    "\n",
    "# combine filters to identify lines where either range contains the other.\n",
    "# first filter OR second filter.\n",
    "df['any_overlap_at_all'] = filter_overlap_range1_lower | filter_overlap_range2_lower\n",
    "\n",
    "# looks good!  Just count the rows in this filtered dataframe to get the answer.\n",
    "df['any_overlap_at_all'].sum()"
   ]
  }
 ],
 "metadata": {
  "kernelspec": {
   "display_name": "Python 3.10.8 64-bit",
   "language": "python",
   "name": "python3"
  },
  "language_info": {
   "codemirror_mode": {
    "name": "ipython",
    "version": 3
   },
   "file_extension": ".py",
   "mimetype": "text/x-python",
   "name": "python",
   "nbconvert_exporter": "python",
   "pygments_lexer": "ipython3",
   "version": "3.10.8"
  },
  "orig_nbformat": 4,
  "vscode": {
   "interpreter": {
    "hash": "b0fa6594d8f4cbf19f97940f81e996739fb7646882a419484c72d19e05852a7e"
   }
  }
 },
 "nbformat": 4,
 "nbformat_minor": 2
}
