{
 "cells": [
  {
   "cell_type": "code",
   "execution_count": 131,
   "metadata": {},
   "outputs": [
    {
     "name": "stdout",
     "output_type": "stream",
     "text": [
      "657 pairs have one range fully overlapping the other.\n"
     ]
    }
   ],
   "source": [
    "# Advent of Code 2022\n",
    "# Day 4 Part 1\n",
    "# https://adventofcode.com/2022/day/4\n",
    "\n",
    "with open('camp_area_ranges.txt') as f:\n",
    "    data=f.read()\n",
    "\n",
    "# split text into lines\n",
    "lines = data.split('\\n')\n",
    "\n",
    "# filter out blank lines\n",
    "lines = list(filter(None, lines))\n",
    "\n",
    "full_overlap_count = 0\n",
    "\n",
    "for l in lines:\n",
    "\n",
    "    # split ranges into lower / upper values for the first range: l1, u1\n",
    "    # and lower / upper values for the second range:  l2, u2\n",
    "    range1, range2 = l.split(',')\n",
    "    l1, u1 = range1.split(\"-\")\n",
    "    l2, u2 = range2.split(\"-\")\n",
    "\n",
    "    # Aha!  Change values from text to integers!\n",
    "    # This missing step took way too long to figure out...\n",
    "    l1, u1, l2, u2 = int(l1), int(u1), int(l2), int(u2)\n",
    "    \n",
    "    if (l1<=l2 and u1>=u2):\n",
    "        full_overlap_count += 1\n",
    "    elif (l2<=l1 and u2>=u1):\n",
    "        full_overlap_count += 1\n",
    "\n",
    "print(f'{full_overlap_count} pairs have one range fully overlapping the other.')\n"
   ]
  },
  {
   "cell_type": "code",
   "execution_count": 132,
   "metadata": {},
   "outputs": [
    {
     "name": "stdout",
     "output_type": "stream",
     "text": [
      "938 pairs have any overlap between ranges.\n"
     ]
    }
   ],
   "source": [
    "# Advent of Code 2022\n",
    "# Day 4 Part 2\n",
    "\n",
    "# Same as Part 1 except for the if - elif statements\n",
    "\n",
    "any_overlap_count = 0\n",
    "\n",
    "for l in lines:\n",
    "\n",
    "    # split ranges into lower / upper values for the first range: l1, u1\n",
    "    # and lower / upper values for the second range:  l2, u2\n",
    "    range1, range2 = l.split(',')\n",
    "    l1, u1 = range1.split(\"-\")\n",
    "    l2, u2 = range2.split(\"-\")\n",
    "\n",
    "    # change values from text to integers! \n",
    "    l1, u1, l2, u2 = int(l1), int(u1), int(l2), int(u2)\n",
    "    \n",
    "    if (l1<=l2 and u1>=l2):\n",
    "        any_overlap_count += 1\n",
    "    elif (l2<=l1 and u2>=l1):\n",
    "        any_overlap_count += 1\n",
    "\n",
    "print(f'{any_overlap_count} pairs have any overlap between ranges.')\n"
   ]
  }
 ],
 "metadata": {
  "kernelspec": {
   "display_name": "Python 3.10.8 64-bit",
   "language": "python",
   "name": "python3"
  },
  "language_info": {
   "codemirror_mode": {
    "name": "ipython",
    "version": 3
   },
   "file_extension": ".py",
   "mimetype": "text/x-python",
   "name": "python",
   "nbconvert_exporter": "python",
   "pygments_lexer": "ipython3",
   "version": "3.10.8"
  },
  "orig_nbformat": 4,
  "vscode": {
   "interpreter": {
    "hash": "b0fa6594d8f4cbf19f97940f81e996739fb7646882a419484c72d19e05852a7e"
   }
  }
 },
 "nbformat": 4,
 "nbformat_minor": 2
}
