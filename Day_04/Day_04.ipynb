{
 "cells": [
  {
   "cell_type": "markdown",
   "metadata": {},
   "source": [
    "## Advent of Code 2022\n",
    "### Day 4\n",
    "https://adventofcode.com/2022/day/4"
   ]
  },
  {
   "cell_type": "code",
   "execution_count": 14,
   "metadata": {},
   "outputs": [],
   "source": [
    "import pandas as pd"
   ]
  },
  {
   "cell_type": "code",
   "execution_count": 2,
   "metadata": {},
   "outputs": [],
   "source": [
    "# open the input ddata\n",
    "with open('camp_area_ranges.txt') as f:\n",
    "    lines = f.readlines()"
   ]
  },
  {
   "cell_type": "code",
   "execution_count": 3,
   "metadata": {},
   "outputs": [],
   "source": [
    "# remove \\n from each line\n",
    "camp_ranges= [l.replace('\\n','') for l in lines]"
   ]
  },
  {
   "cell_type": "code",
   "execution_count": 4,
   "metadata": {},
   "outputs": [],
   "source": [
    "# create a dataframe to analyze the camp area anges\n",
    "df = pd.DataFrame(camp_ranges, columns=['original'])"
   ]
  },
  {
   "cell_type": "code",
   "execution_count": 5,
   "metadata": {},
   "outputs": [],
   "source": [
    "# split the original column at the \",\" character into separate columns\n",
    "# for each elf's range\n",
    "df[['range1', 'range2']] = df['original'].str.split(',', expand=True)"
   ]
  },
  {
   "cell_type": "code",
   "execution_count": 6,
   "metadata": {},
   "outputs": [],
   "source": [
    "# split each range at the '-' character into lower and upper limiits\n",
    "df[['range1_lower', 'range1_upper']] = df['range1'].str.split('-', expand=True)\n",
    "df[['range2_lower', 'range2_upper']] = df['range2'].str.split('-', expand=True)"
   ]
  },
  {
   "cell_type": "code",
   "execution_count": 7,
   "metadata": {},
   "outputs": [],
   "source": [
    "# conditions for a full overlap if range 1 contains range 2:\n",
    "# range1_lower <= range2_lower AND range1_upper >= range2_upper\n",
    "\n",
    "filter_1contains2 = (df['range1_lower']<=df['range2_lower']) & (df['range1_upper'] >= df['range2_upper'])\n",
    "\n",
    "# reverse the conditions to find out if range 2 contains range 1\n",
    "filter_2contains1 = (df['range2_lower']<=df['range1_lower']) & (df['range2_upper'] >= df['range1_upper'])"
   ]
  },
  {
   "cell_type": "code",
   "execution_count": 8,
   "metadata": {},
   "outputs": [],
   "source": [
    "# apply filters as columns in the dataframe just to view and\n",
    "# double check\n",
    "\n",
    "df['range1_contains_range2'] =  filter_1contains2\n",
    "df['range2_contains_range1'] = filter_2contains1"
   ]
  },
  {
   "cell_type": "code",
   "execution_count": 9,
   "metadata": {},
   "outputs": [
    {
     "data": {
      "text/html": [
       "<div>\n",
       "<style scoped>\n",
       "    .dataframe tbody tr th:only-of-type {\n",
       "        vertical-align: middle;\n",
       "    }\n",
       "\n",
       "    .dataframe tbody tr th {\n",
       "        vertical-align: top;\n",
       "    }\n",
       "\n",
       "    .dataframe thead th {\n",
       "        text-align: right;\n",
       "    }\n",
       "</style>\n",
       "<table border=\"1\" class=\"dataframe\">\n",
       "  <thead>\n",
       "    <tr style=\"text-align: right;\">\n",
       "      <th></th>\n",
       "      <th>original</th>\n",
       "      <th>range1</th>\n",
       "      <th>range2</th>\n",
       "      <th>range1_lower</th>\n",
       "      <th>range1_upper</th>\n",
       "      <th>range2_lower</th>\n",
       "      <th>range2_upper</th>\n",
       "      <th>range1_contains_range2</th>\n",
       "      <th>range2_contains_range1</th>\n",
       "    </tr>\n",
       "  </thead>\n",
       "  <tbody>\n",
       "    <tr>\n",
       "      <th>0</th>\n",
       "      <td>54-59,17-62</td>\n",
       "      <td>54-59</td>\n",
       "      <td>17-62</td>\n",
       "      <td>54</td>\n",
       "      <td>59</td>\n",
       "      <td>17</td>\n",
       "      <td>62</td>\n",
       "      <td>False</td>\n",
       "      <td>True</td>\n",
       "    </tr>\n",
       "    <tr>\n",
       "      <th>1</th>\n",
       "      <td>20-93,57-92</td>\n",
       "      <td>20-93</td>\n",
       "      <td>57-92</td>\n",
       "      <td>20</td>\n",
       "      <td>93</td>\n",
       "      <td>57</td>\n",
       "      <td>92</td>\n",
       "      <td>True</td>\n",
       "      <td>False</td>\n",
       "    </tr>\n",
       "    <tr>\n",
       "      <th>2</th>\n",
       "      <td>6-54,7-54</td>\n",
       "      <td>6-54</td>\n",
       "      <td>7-54</td>\n",
       "      <td>6</td>\n",
       "      <td>54</td>\n",
       "      <td>7</td>\n",
       "      <td>54</td>\n",
       "      <td>True</td>\n",
       "      <td>False</td>\n",
       "    </tr>\n",
       "    <tr>\n",
       "      <th>3</th>\n",
       "      <td>3-99,59-98</td>\n",
       "      <td>3-99</td>\n",
       "      <td>59-98</td>\n",
       "      <td>3</td>\n",
       "      <td>99</td>\n",
       "      <td>59</td>\n",
       "      <td>98</td>\n",
       "      <td>True</td>\n",
       "      <td>False</td>\n",
       "    </tr>\n",
       "    <tr>\n",
       "      <th>4</th>\n",
       "      <td>5-8,5-8</td>\n",
       "      <td>5-8</td>\n",
       "      <td>5-8</td>\n",
       "      <td>5</td>\n",
       "      <td>8</td>\n",
       "      <td>5</td>\n",
       "      <td>8</td>\n",
       "      <td>True</td>\n",
       "      <td>True</td>\n",
       "    </tr>\n",
       "    <tr>\n",
       "      <th>...</th>\n",
       "      <td>...</td>\n",
       "      <td>...</td>\n",
       "      <td>...</td>\n",
       "      <td>...</td>\n",
       "      <td>...</td>\n",
       "      <td>...</td>\n",
       "      <td>...</td>\n",
       "      <td>...</td>\n",
       "      <td>...</td>\n",
       "    </tr>\n",
       "    <tr>\n",
       "      <th>994</th>\n",
       "      <td>46-89,87-88</td>\n",
       "      <td>46-89</td>\n",
       "      <td>87-88</td>\n",
       "      <td>46</td>\n",
       "      <td>89</td>\n",
       "      <td>87</td>\n",
       "      <td>88</td>\n",
       "      <td>True</td>\n",
       "      <td>False</td>\n",
       "    </tr>\n",
       "    <tr>\n",
       "      <th>995</th>\n",
       "      <td>59-89,68-89</td>\n",
       "      <td>59-89</td>\n",
       "      <td>68-89</td>\n",
       "      <td>59</td>\n",
       "      <td>89</td>\n",
       "      <td>68</td>\n",
       "      <td>89</td>\n",
       "      <td>True</td>\n",
       "      <td>False</td>\n",
       "    </tr>\n",
       "    <tr>\n",
       "      <th>997</th>\n",
       "      <td>24-94,54-93</td>\n",
       "      <td>24-94</td>\n",
       "      <td>54-93</td>\n",
       "      <td>24</td>\n",
       "      <td>94</td>\n",
       "      <td>54</td>\n",
       "      <td>93</td>\n",
       "      <td>True</td>\n",
       "      <td>False</td>\n",
       "    </tr>\n",
       "    <tr>\n",
       "      <th>998</th>\n",
       "      <td>41-63,40-63</td>\n",
       "      <td>41-63</td>\n",
       "      <td>40-63</td>\n",
       "      <td>41</td>\n",
       "      <td>63</td>\n",
       "      <td>40</td>\n",
       "      <td>63</td>\n",
       "      <td>False</td>\n",
       "      <td>True</td>\n",
       "    </tr>\n",
       "    <tr>\n",
       "      <th>999</th>\n",
       "      <td>87-90,89-90</td>\n",
       "      <td>87-90</td>\n",
       "      <td>89-90</td>\n",
       "      <td>87</td>\n",
       "      <td>90</td>\n",
       "      <td>89</td>\n",
       "      <td>90</td>\n",
       "      <td>True</td>\n",
       "      <td>False</td>\n",
       "    </tr>\n",
       "  </tbody>\n",
       "</table>\n",
       "<p>682 rows × 9 columns</p>\n",
       "</div>"
      ],
      "text/plain": [
       "        original range1 range2 range1_lower range1_upper range2_lower  \\\n",
       "0    54-59,17-62  54-59  17-62           54           59           17   \n",
       "1    20-93,57-92  20-93  57-92           20           93           57   \n",
       "2      6-54,7-54   6-54   7-54            6           54            7   \n",
       "3     3-99,59-98   3-99  59-98            3           99           59   \n",
       "4        5-8,5-8    5-8    5-8            5            8            5   \n",
       "..           ...    ...    ...          ...          ...          ...   \n",
       "994  46-89,87-88  46-89  87-88           46           89           87   \n",
       "995  59-89,68-89  59-89  68-89           59           89           68   \n",
       "997  24-94,54-93  24-94  54-93           24           94           54   \n",
       "998  41-63,40-63  41-63  40-63           41           63           40   \n",
       "999  87-90,89-90  87-90  89-90           87           90           89   \n",
       "\n",
       "    range2_upper  range1_contains_range2  range2_contains_range1  \n",
       "0             62                   False                    True  \n",
       "1             92                    True                   False  \n",
       "2             54                    True                   False  \n",
       "3             98                    True                   False  \n",
       "4              8                    True                    True  \n",
       "..           ...                     ...                     ...  \n",
       "994           88                    True                   False  \n",
       "995           89                    True                   False  \n",
       "997           93                    True                   False  \n",
       "998           63                   False                    True  \n",
       "999           90                    True                   False  \n",
       "\n",
       "[682 rows x 9 columns]"
      ]
     },
     "execution_count": 9,
     "metadata": {},
     "output_type": "execute_result"
    }
   ],
   "source": [
    "# combine filters to identify lines where either range contains the other.\n",
    "# first filter OR second filter.\n",
    "\n",
    "df[(filter_1contains2 | filter_2contains1)]"
   ]
  },
  {
   "cell_type": "code",
   "execution_count": 10,
   "metadata": {},
   "outputs": [
    {
     "data": {
      "text/plain": [
       "682"
      ]
     },
     "execution_count": 10,
     "metadata": {},
     "output_type": "execute_result"
    }
   ],
   "source": [
    "# looks good!  Just count the rows in this filtered dataframe to get the answer.\n",
    "\n",
    "len(df[(filter_1contains2 | filter_2contains1)])"
   ]
  }
 ],
 "metadata": {
  "kernelspec": {
   "display_name": "Python 3.10.8 64-bit",
   "language": "python",
   "name": "python3"
  },
  "language_info": {
   "codemirror_mode": {
    "name": "ipython",
    "version": 3
   },
   "file_extension": ".py",
   "mimetype": "text/x-python",
   "name": "python",
   "nbconvert_exporter": "python",
   "pygments_lexer": "ipython3",
   "version": "3.10.8"
  },
  "orig_nbformat": 4,
  "vscode": {
   "interpreter": {
    "hash": "b0fa6594d8f4cbf19f97940f81e996739fb7646882a419484c72d19e05852a7e"
   }
  }
 },
 "nbformat": 4,
 "nbformat_minor": 2
}
