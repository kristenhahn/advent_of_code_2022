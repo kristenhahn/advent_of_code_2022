{
 "cells": [
  {
   "cell_type": "code",
   "execution_count": 148,
   "metadata": {},
   "outputs": [
    {
     "name": "stdout",
     "output_type": "stream",
     "text": [
      "72602\n"
     ]
    }
   ],
   "source": [
    "# Open the file containing elf food lists\n",
    "with open('elf_food.txt', 'r') as f:\n",
    "    lines = f.readlines()\n",
    "    lines = [l.replace('\\n', '') for l in lines]\n",
    "\n",
    "\n",
    "# list of total calories carried by each elf\n",
    "calories_per_elf = []\n",
    "\n",
    "# total calories carried by each individual elf\n",
    "total_cals = 0\n",
    "\n",
    "for i, v in enumerate(lines):\n",
    "    # if line is blank, it indicates the end of an elf's list. \n",
    "    # Append the running total of calories for this elf\n",
    "    # to the calories_per_elf list, and reset total calories to zero\n",
    "    # for the next elf\n",
    "    if v == '':\n",
    "        calories_per_elf.append(total_cals)\n",
    "        total_cals = 0\n",
    "    # if line is the last line in the list, add calories to the \n",
    "    # running total for the last elf and append the total \n",
    "    # calories for the last elf to the calories_per_elf list.\n",
    "    elif i == len(lines):\n",
    "        total_cals += int(v)\n",
    "        calories_per_elf.append(total_cals)\n",
    "    # If the line is not a blank or the end of the list, it \n",
    "    # must be inside an elf's list. \n",
    "    # Add the calories from this line to the running total\n",
    "    # for this elf.\n",
    "    else:\n",
    "        total_cals += int(v)\n",
    "       \n",
    "highest_total = max(calories_per_elf)\n",
    "\n",
    "print(highest_total)"
   ]
  },
  {
   "cell_type": "code",
   "execution_count": null,
   "metadata": {},
   "outputs": [],
   "source": []
  },
  {
   "cell_type": "code",
   "execution_count": null,
   "metadata": {},
   "outputs": [],
   "source": []
  }
 ],
 "metadata": {
  "kernelspec": {
   "display_name": "Python 3.10.8 64-bit",
   "language": "python",
   "name": "python3"
  },
  "language_info": {
   "codemirror_mode": {
    "name": "ipython",
    "version": 3
   },
   "file_extension": ".py",
   "mimetype": "text/x-python",
   "name": "python",
   "nbconvert_exporter": "python",
   "pygments_lexer": "ipython3",
   "version": "3.10.8"
  },
  "orig_nbformat": 4,
  "vscode": {
   "interpreter": {
    "hash": "b0fa6594d8f4cbf19f97940f81e996739fb7646882a419484c72d19e05852a7e"
   }
  }
 },
 "nbformat": 4,
 "nbformat_minor": 2
}
