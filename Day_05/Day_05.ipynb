{
 "cells": [
  {
   "cell_type": "code",
   "execution_count": 32,
   "metadata": {},
   "outputs": [],
   "source": [
    "# Advent of Code 2022\n",
    "# Day 5\n",
    "# https://adventofcode.com/2022/day/5\n",
    "\n",
    "with open ('boxes.txt') as f:\n",
    "    data = f.read()\n",
    "\n",
    "lines = data.split('\\n')"
   ]
  },
  {
   "cell_type": "code",
   "execution_count": 33,
   "metadata": {},
   "outputs": [
    {
     "name": "stdout",
     "output_type": "stream",
     "text": [
      "        [Q] [B]         [H]        \n",
      "    [F] [W] [D] [Q]     [S]        \n",
      "    [D] [C] [N] [S] [G] [F]        \n",
      "    [R] [D] [L] [C] [N] [Q]     [R]\n",
      "[V] [W] [L] [M] [P] [S] [M]     [M]\n",
      "[J] [B] [F] [P] [B] [B] [P] [F] [F]\n",
      "[B] [V] [G] [J] [N] [D] [B] [L] [V]\n",
      "[D] [P] [R] [W] [H] [R] [Z] [W] [S]\n",
      " 1   2   3   4   5   6   7   8   9 \n",
      "\n"
     ]
    }
   ],
   "source": [
    "# Generate Crates:  Can I do this from the text file without manually defining\n",
    "# lists of crates?\n",
    "\n",
    "# look at the original stacks\n",
    "for l in lines[:10]:\n",
    "    print(l)\n",
    "\n",
    "    "
   ]
  },
  {
   "cell_type": "code",
   "execution_count": 34,
   "metadata": {},
   "outputs": [
    {
     "data": {
      "text/plain": [
       "[['-', '1', '2', '3', '4', '5', '6', '7', '8', '9'],\n",
       " ['-', 'D', 'P', 'R', 'W', 'H', 'R', 'Z', 'W', 'S'],\n",
       " ['-', 'B', 'V', 'G', 'J', 'N', 'D', 'B', 'L', 'V'],\n",
       " ['-', 'J', 'B', 'F', 'P', 'B', 'B', 'P', 'F', 'F'],\n",
       " ['-', 'V', 'W', 'L', 'M', 'P', 'S', 'M', ' ', 'M'],\n",
       " ['-', ' ', 'R', 'D', 'L', 'C', 'N', 'Q', ' ', 'R'],\n",
       " ['-', ' ', 'D', 'C', 'N', 'S', 'G', 'F', ' ', ' '],\n",
       " ['-', ' ', 'F', 'W', 'D', 'Q', ' ', 'S', ' ', ' '],\n",
       " ['-', ' ', ' ', 'Q', 'B', ' ', ' ', 'H', ' ', ' ']]"
      ]
     },
     "execution_count": 34,
     "metadata": {},
     "output_type": "execute_result"
    }
   ],
   "source": [
    "# Each stack will be a list in order from bottom to top.\n",
    "\n",
    "# Create a list to contain all of the horizontal rows of crates\n",
    "rows = []\n",
    "\n",
    "# loop through the lines in reverse order\n",
    "# to get the crates listed from bottom to top\n",
    "for r in reversed(range(9)):\n",
    "    line = lines[r]\n",
    "\n",
    "    # Create a dummy row[0] list item for convenience, so the \n",
    "    # index numbers of the stacks match the\n",
    "    # stack numbers in the instructions.  \n",
    "    row = ['-']\n",
    "\n",
    "    # for each row, loop through the positions that\n",
    "    # actaully contain crate labels (omitting the brackets and spaces).\n",
    "    # Each of these characters will represent a crate.\n",
    "    for i in range(1, 34, 4):\n",
    "        # add each crate to the row \n",
    "        row.extend(line[i])\n",
    "\n",
    "    # append the new row to the list of rows.   \n",
    "    rows.append(row)\n",
    "    \n",
    "rows\n"
   ]
  },
  {
   "cell_type": "code",
   "execution_count": 35,
   "metadata": {},
   "outputs": [],
   "source": [
    "\n",
    "# reorganize the rows of crates into stacks.\n",
    "\n",
    "\n",
    "stacks = []\n",
    "\n",
    "# loop through the items in each row and assign\n",
    "# the crates from the same position in each\n",
    "# row to a single stack (Basically, pivot the stack.)\n",
    "\n",
    "# loop through the horizontal crate positions in the rows\n",
    "for i in range(10):\n",
    "\n",
    "    # loop through the crates in the same position in each row\n",
    "    # to create a stack\n",
    "    s = [row[i] for row in rows]\n",
    "\n",
    "    # remove the blank placeholders from \n",
    "    # each stack\n",
    "    s = [c for c in s if c != ' ']\n",
    "\n",
    "    # append the stack to the list of stacks\n",
    "    stacks.append(s)\n",
    "\n",
    "\n"
   ]
  },
  {
   "cell_type": "code",
   "execution_count": 36,
   "metadata": {},
   "outputs": [
    {
     "data": {
      "text/plain": [
       "[['-', '-', '-', '-', '-', '-', '-', '-', '-'],\n",
       " ['1', 'D', 'B', 'J', 'V'],\n",
       " ['2', 'P', 'V', 'B', 'W', 'R', 'D', 'F'],\n",
       " ['3', 'R', 'G', 'F', 'L', 'D', 'C', 'W', 'Q'],\n",
       " ['4', 'W', 'J', 'P', 'M', 'L', 'N', 'D', 'B'],\n",
       " ['5', 'H', 'N', 'B', 'P', 'C', 'S', 'Q'],\n",
       " ['6', 'R', 'D', 'B', 'S', 'N', 'G'],\n",
       " ['7', 'Z', 'B', 'P', 'M', 'Q', 'F', 'S', 'H'],\n",
       " ['8', 'W', 'L', 'F'],\n",
       " ['9', 'S', 'V', 'F', 'M', 'R']]"
      ]
     },
     "execution_count": 36,
     "metadata": {},
     "output_type": "execute_result"
    }
   ],
   "source": [
    "stacks\n",
    "\n",
    "# Hooray!  Now each stack is a list."
   ]
  },
  {
   "cell_type": "code",
   "execution_count": 37,
   "metadata": {},
   "outputs": [],
   "source": [
    "# Moving crates - use this for Part 1.\n",
    "def move_crates(quantity, from_stack_num, to_stack_num):\n",
    "    for i in range(quantity):\n",
    "        crate = stacks[from_stack_num].pop()\n",
    "        stacks[to_stack_num].extend(crate)"
   ]
  },
  {
   "cell_type": "code",
   "execution_count": 38,
   "metadata": {},
   "outputs": [],
   "source": [
    "# Moving crates - use this version for Part 2 solution\n",
    "def move_multiple_crates(quantity, from_stack_num, to_stack_num):\n",
    "    crates = stacks[from_stack_num][-quantity:]\n",
    "    del (stacks[from_stack_num][-quantity:])\n",
    "    stacks[to_stack_num].extend(crates)"
   ]
  },
  {
   "cell_type": "code",
   "execution_count": 39,
   "metadata": {},
   "outputs": [],
   "source": [
    "# the instructions start in line 10 of the text file.\n",
    "instructions = lines[10:]\n",
    "\n",
    "# remove blank lines\n",
    "instructions = list(filter(None, instructions))\n"
   ]
  },
  {
   "cell_type": "code",
   "execution_count": 40,
   "metadata": {},
   "outputs": [],
   "source": [
    "\n",
    "# Troubleshooting text file\n",
    "\n",
    "with open (\"log.txt\", \"w\") as crane_log:\n",
    "\n",
    "    try:\n",
    "\n",
    "        for i in instructions:\n",
    "\n",
    "            crane_log.write(f'{i}\\n\\n')\n",
    "\n",
    "            # get the quantity of crates to move, the stack to take crates from, \n",
    "            # and the stack to move them to (instruction numbers)\n",
    "\n",
    "            # remove the words, replace with dashes between numbers\n",
    "            ins_nums  = i.replace('move ','') \\\n",
    "                .replace(' from ', '-') \\\n",
    "                .replace(' to ','-')\n",
    "            # split at the dashes to get a list of instruction numbers\n",
    "            ins_nums = ins_nums.split('-')\n",
    "\n",
    "            # convert instruction numbers from strings to values the\n",
    "            # move_crates function can use\n",
    "\n",
    "            # quantity of crates to move\n",
    "            q = int(ins_nums[0])\n",
    "\n",
    "            # stack to move from\n",
    "            f = int(ins_nums[1])\n",
    "\n",
    "            # stack to move to\n",
    "            t = int(ins_nums[2])\n",
    "\n",
    "            # Apply the instructions to the crates - use this version for Part 1.\n",
    "            # move_crates(q, f, t)\n",
    "\n",
    "            # Apply the instructions to the crates - use this version for Part 2.\n",
    "            move_multiple_crates(q, f, t)\n",
    "\n",
    "            # print the stacks in the troubleshooting log\n",
    "            for s in stacks:\n",
    "                crane_log.write(f'{str(s)}\\n')\n",
    "                \n",
    "            crane_log.write('\\n\\n------------\\n\\n')\n",
    "\n",
    "    except IndexError:\n",
    "\n",
    "        print(\"ERROR! PLEASE FIX THIS FOR THE ELVES!\")\n",
    "        \n",
    "        for s in stacks:\n",
    "                crane_log.write(f'{str(s)}\\n')\n",
    "                \n",
    "        crane_log.write('\\n\\n------------\\n\\n')\n",
    "\n",
    "\n",
    "    "
   ]
  },
  {
   "cell_type": "code",
   "execution_count": 41,
   "metadata": {},
   "outputs": [
    {
     "name": "stdout",
     "output_type": "stream",
     "text": [
      "['-', 'P', 'G', 'S', 'Q', 'B', 'F', 'L', 'D', 'P']\n"
     ]
    }
   ],
   "source": [
    "# Print the top of each stack\n",
    "\n",
    "answer = [s[-1] for s in stacks]\n",
    "\n",
    "print(answer)\n",
    "\n",
    "    \n",
    "    "
   ]
  },
  {
   "cell_type": "code",
   "execution_count": 42,
   "metadata": {},
   "outputs": [],
   "source": [
    "# Advent of Code 2022\n",
    "# Day 5 Part 2\n",
    "# https://adventofcode.com/2022/day/5#part2\n",
    "\n",
    "# Same as part 1 except for the move_crates function.  See comments above.\n",
    "\n"
   ]
  }
 ],
 "metadata": {
  "kernelspec": {
   "display_name": "Python 3.10.8 64-bit",
   "language": "python",
   "name": "python3"
  },
  "language_info": {
   "codemirror_mode": {
    "name": "ipython",
    "version": 3
   },
   "file_extension": ".py",
   "mimetype": "text/x-python",
   "name": "python",
   "nbconvert_exporter": "python",
   "pygments_lexer": "ipython3",
   "version": "3.10.8"
  },
  "orig_nbformat": 4,
  "vscode": {
   "interpreter": {
    "hash": "b0fa6594d8f4cbf19f97940f81e996739fb7646882a419484c72d19e05852a7e"
   }
  }
 },
 "nbformat": 4,
 "nbformat_minor": 2
}
