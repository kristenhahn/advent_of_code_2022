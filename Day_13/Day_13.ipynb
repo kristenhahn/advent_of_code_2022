{
 "cells": [
  {
   "cell_type": "code",
   "execution_count": 89,
   "metadata": {},
   "outputs": [],
   "source": [
    "# Advent of Code 2022\n",
    "# Day 13\n",
    "# https://adventofcode.com/2022/day/13\n",
    "\n",
    "from itertools import zip_longest\n",
    "from collections import Counter\n",
    "\n",
    "with open('input.txt') as f:\n",
    "    data = f.read().strip('\\n')\n",
    "lines = data.split('\\n')\n",
    "\n",
    "# group pairs together (lines together between blank lines)\n",
    "pairs = [lines[l:l+2] for l in range(0, len(lines), 3)]\n",
    "\n",
    "# convert text lines to lists\n",
    "pairs = [[eval(p[0]), eval(p[1])]for p in pairs]\n",
    "\n"
   ]
  },
  {
   "cell_type": "code",
   "execution_count": 90,
   "metadata": {},
   "outputs": [],
   "source": [
    "def compare_ints(l_int, r_int):\n",
    "    if l_int == r_int:\n",
    "        return 'tie'\n",
    "    elif l_int > r_int:\n",
    "        return 'incorrect'\n",
    "    elif l_int < r_int:\n",
    "        return 'correct'\n",
    "\n",
    "\n",
    "\n",
    "def compare_int_lists(l_list, r_list):\n",
    "    # zip lists to generate l-r pairs for comparison\n",
    "    zip_lists = zip_longest(l_list, r_list,fillvalue=0)\n",
    "    # loop through pairs\n",
    "    for l, r in zip_lists:\n",
    "        c =  compare_ints(l, r)\n",
    "        # as soon as a \"correct\" or \"incorrect\" value is found, return it.\n",
    "        if c in ('correct', 'incorrect'):\n",
    "            return c\n",
    "    # if no return value was found, return c (which should be 'tie' at \n",
    "    # the end of a tie loop.)\n",
    "    return c\n",
    "\n",
    "\n",
    "\n"
   ]
  },
  {
   "cell_type": "code",
   "execution_count": 91,
   "metadata": {},
   "outputs": [
    {
     "name": "stdout",
     "output_type": "stream",
     "text": [
      "5717\n"
     ]
    }
   ],
   "source": [
    "def compare_lists(l_list, r_list):\n",
    "    zip_lists = zip_longest(l_list, r_list, fillvalue=0)\n",
    "\n",
    "    for l, r in zip_lists:\n",
    "\n",
    "        temp_answer = ''\n",
    "\n",
    "        # if r and l are both integers, compare them.\n",
    "        if type(l) == type(r) == int:\n",
    "            c =  compare_ints(l,r)\n",
    "            # as soon as an answer is found, \n",
    "            if c in ('correct', 'incorrect'):\n",
    "                temp_answer = c  \n",
    "            \n",
    "        # if r and l are both lists, zip and compare them. This covers the \n",
    "        # 7th example with nested empty lists.\n",
    "        elif type(l) == type(r) == list:\n",
    "            # if one is an empty list and one has items:\n",
    "            if len(l) == 0 and len(r) > 0:\n",
    "                temp_answer = 'correct'\n",
    "            elif len(l) > 0 and len(r) == 0:\n",
    "                temp_answer = 'incorrect'\n",
    "            else:\n",
    "                c = compare_lists(l,r)\n",
    "                if c in ('correct', 'incorrect'):\n",
    "                    temp_answer = c\n",
    "\n",
    "        # if r and l are mixed:s\n",
    "        else:\n",
    "            if type(l) == int:\n",
    "                l = [l]\n",
    "            elif type(r) == int:\n",
    "                r = [r]\n",
    "            c = compare_lists(l,r)\n",
    "            if c in ('correct', 'incorrect'):\n",
    "                temp_answer = c\n",
    "\n",
    "\n",
    "        if temp_answer in ('correct', 'incorrect'):\n",
    "            return temp_answer\n",
    "        \n",
    "\n",
    "results = []\n",
    "for p in pairs:\n",
    "    results.append(compare_lists(p[0], p[1]))\n",
    "\n",
    "\n",
    "correct_indices = [e[0]+1 for e in enumerate(results) if e[1] == 'correct']\n",
    "\n",
    "answer = sum(correct_indices)\n",
    "print(answer)\n"
   ]
  },
  {
   "cell_type": "code",
   "execution_count": 92,
   "metadata": {},
   "outputs": [
    {
     "name": "stdout",
     "output_type": "stream",
     "text": [
      "25935\n"
     ]
    }
   ],
   "source": [
    "# Part 2:  Put everything in order, including two additional packets\n",
    "\n",
    "divider_a, divider_b = [[2]],[[6]]\n",
    "all_lists = [divider_a, divider_b]\n",
    "for p in pairs:\n",
    "    all_lists.append(p[0])\n",
    "    all_lists.append(p[1])\n",
    "\n",
    "def sort_lists(all_lists):\n",
    "\n",
    "    # track whether any pairs have\n",
    "    # been sweitched.\n",
    "    any_switched = False\n",
    "    for i in range (len(all_lists)-1):\n",
    "        a = all_lists[i]\n",
    "        b = all_lists[i+1]\n",
    "        if compare_lists(a, b) == 'incorrect':\n",
    "            all_lists[i], all_lists[i+1] = b, a\n",
    "            any_switched = True\n",
    "\n",
    "        # if any were switched this round,\n",
    "        # sort again to see if there are more\n",
    "        # still out of order.\n",
    "    if any_switched == True:\n",
    "        sort_lists(all_lists)\n",
    "            \n",
    "\n",
    "sort_lists(all_lists)\n",
    "\n",
    "index_a = all_lists.index(divider_a)+1\n",
    "index_b = all_lists.index(divider_b)+1\n",
    "\n",
    "decoder = index_a * index_b\n",
    "\n",
    "print(decoder)"
   ]
  },
  {
   "cell_type": "code",
   "execution_count": null,
   "metadata": {},
   "outputs": [],
   "source": []
  },
  {
   "cell_type": "code",
   "execution_count": null,
   "metadata": {},
   "outputs": [],
   "source": [
    "\n",
    "     \n"
   ]
  },
  {
   "cell_type": "code",
   "execution_count": null,
   "metadata": {},
   "outputs": [],
   "source": [
    "\n",
    "\n",
    "\n"
   ]
  },
  {
   "cell_type": "code",
   "execution_count": null,
   "metadata": {},
   "outputs": [],
   "source": []
  },
  {
   "cell_type": "code",
   "execution_count": null,
   "metadata": {},
   "outputs": [],
   "source": []
  }
 ],
 "metadata": {
  "kernelspec": {
   "display_name": "Python 3",
   "language": "python",
   "name": "python3"
  },
  "language_info": {
   "codemirror_mode": {
    "name": "ipython",
    "version": 3
   },
   "file_extension": ".py",
   "mimetype": "text/x-python",
   "name": "python",
   "nbconvert_exporter": "python",
   "pygments_lexer": "ipython3",
   "version": "3.10.8"
  },
  "orig_nbformat": 4,
  "vscode": {
   "interpreter": {
    "hash": "b0fa6594d8f4cbf19f97940f81e996739fb7646882a419484c72d19e05852a7e"
   }
  }
 },
 "nbformat": 4,
 "nbformat_minor": 2
}
