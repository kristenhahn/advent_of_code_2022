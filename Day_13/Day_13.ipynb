{
 "cells": [
  {
   "cell_type": "code",
   "execution_count": 14,
   "metadata": {},
   "outputs": [
    {
     "data": {
      "text/plain": [
       "[['[1,1,3,1,1]', '[1,1,5,1,1]'],\n",
       " ['[[1],[2,3,4]]', '[[1],4]'],\n",
       " ['[9]', '[[8,7,6]]'],\n",
       " ['[[4,4],4,4]', '[[4,4],4,4,4]'],\n",
       " ['[7,7,7,7]', '[7,7,7]'],\n",
       " ['[]', '[3]'],\n",
       " ['[[[]]]', '[[]]'],\n",
       " ['[1,[2,[3,[4,[5,6,7]]]],8,9]', '[1,[2,[3,[4,[5,6,0]]]],8,9]']]"
      ]
     },
     "execution_count": 14,
     "metadata": {},
     "output_type": "execute_result"
    }
   ],
   "source": [
    "# Advent of Code 2022\n",
    "# Day 13\n",
    "# https://adventofcode.com/2022/day/13\n",
    "\n",
    "with open('test_input.txt') as f:\n",
    "    data = f.read().strip('\\n')\n",
    "lines = data.split('\\n')\n",
    "\n",
    "pairs = [lines[l:l+2] for l in range(0, len(lines), 3)]\n",
    "pairs\n"
   ]
  },
  {
   "cell_type": "code",
   "execution_count": null,
   "metadata": {},
   "outputs": [],
   "source": []
  }
 ],
 "metadata": {
  "kernelspec": {
   "display_name": "Python 3",
   "language": "python",
   "name": "python3"
  },
  "language_info": {
   "codemirror_mode": {
    "name": "ipython",
    "version": 3
   },
   "file_extension": ".py",
   "mimetype": "text/x-python",
   "name": "python",
   "nbconvert_exporter": "python",
   "pygments_lexer": "ipython3",
   "version": "3.10.8"
  },
  "orig_nbformat": 4,
  "vscode": {
   "interpreter": {
    "hash": "b0fa6594d8f4cbf19f97940f81e996739fb7646882a419484c72d19e05852a7e"
   }
  }
 },
 "nbformat": 4,
 "nbformat_minor": 2
}
